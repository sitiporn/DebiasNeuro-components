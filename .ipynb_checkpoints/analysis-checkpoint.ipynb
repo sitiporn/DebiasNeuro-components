{
 "cells": [
  {
   "cell_type": "code",
   "execution_count": 2,
   "id": "d8116f8a",
   "metadata": {},
   "outputs": [
    {
     "name": "stdout",
     "output_type": "stream",
     "text": [
      "activated_components.pickle  top_neuron_do-treatment_0.pickle\r\n",
      "NIE_do-treatment_0.pickle    top_neuron_do-treatment_1.pickle\r\n",
      "NIE_do-treatment_1.pickle    top_neuron_do-treatment_2.pickle\r\n",
      "NIE_do-treatment_2.pickle    top_neuron_do-treatment_3.pickle\r\n",
      "NIE_do-treatment_3.pickle    top_neuron_do-treatment_4.pickle\r\n",
      "NIE_do-treatment_4.pickle    top_neuron_do-treatment_5.pickle\r\n",
      "NIE_do-treatment_5.pickle    top_neuron_do-treatment_6.pickle\r\n",
      "NIE_do-treatment_6.pickle    top_neuron_do-treatment_7.pickle\r\n",
      "NIE_do-treatment_7.pickle    top_neuron_no-treatment_0.pickle\r\n",
      "NIE_no-treatment_0.pickle    top_neuron_no-treatment_1.pickle\r\n",
      "NIE_no-treatment_1.pickle    top_neuron_no-treatment_2.pickle\r\n",
      "NIE_no-treatment_2.pickle    top_neuron_no-treatment_3.pickle\r\n",
      "NIE_no-treatment_3.pickle    top_neuron_no-treatment_4.pickle\r\n",
      "NIE_no-treatment_4.pickle    top_neuron_no-treatment_5.pickle\r\n",
      "NIE_no-treatment_5.pickle    top_neuron_no-treatment_6.pickle\r\n",
      "NIE_no-treatment_6.pickle\r\n"
     ]
    }
   ],
   "source": [
    "!ls ../pickles/"
   ]
  },
  {
   "cell_type": "code",
   "execution_count": 27,
   "id": "2f844f3f",
   "metadata": {},
   "outputs": [
    {
     "name": "stderr",
     "output_type": "stream",
     "text": [
      "/tmp/ipykernel_79762/3518078781.py:3: MatplotlibDeprecationWarning: The seaborn styles shipped by Matplotlib are deprecated since 3.6, as they no longer correspond to the styles shipped by seaborn. However, they will remain available as 'seaborn-v0_8-<style>'. Alternatively, directly use the seaborn API instead.\n",
      "  plt.style.use('seaborn-whitegrid')\n"
     ]
    }
   ],
   "source": [
    "%matplotlib inline\n",
    "import matplotlib.pyplot as plt\n",
    "plt.style.use('seaborn-whitegrid')\n",
    "import numpy as np"
   ]
  },
  {
   "cell_type": "code",
   "execution_count": 3,
   "id": "cf92e07c",
   "metadata": {},
   "outputs": [],
   "source": []
  },
  {
   "cell_type": "code",
   "execution_count": 4,
   "id": "66008271",
   "metadata": {},
   "outputs": [
    {
     "name": "stdout",
     "output_type": "stream",
     "text": [
      "Thu Feb  2 12:34:29 2023       \r\n",
      "+-----------------------------------------------------------------------------+\r\n",
      "| NVIDIA-SMI 470.42.01    Driver Version: 470.42.01    CUDA Version: 11.4     |\r\n",
      "|-------------------------------+----------------------+----------------------+\r\n",
      "| GPU  Name        Persistence-M| Bus-Id        Disp.A | Volatile Uncorr. ECC |\r\n",
      "| Fan  Temp  Perf  Pwr:Usage/Cap|         Memory-Usage | GPU-Util  Compute M. |\r\n",
      "|                               |                      |               MIG M. |\r\n",
      "|===============================+======================+======================|\r\n",
      "|   0  Tesla V100-SXM2...  On   | 00000000:18:00.0 Off |                    0 |\r\n",
      "| N/A   31C    P0    40W / 300W |      0MiB / 32510MiB |      0%      Default |\r\n",
      "|                               |                      |                  N/A |\r\n",
      "+-------------------------------+----------------------+----------------------+\r\n",
      "                                                                               \r\n",
      "+-----------------------------------------------------------------------------+\r\n",
      "| Processes:                                                                  |\r\n",
      "|  GPU   GI   CI        PID   Type   Process name                  GPU Memory |\r\n",
      "|        ID   ID                                                   Usage      |\r\n",
      "|=============================================================================|\r\n",
      "|  No running processes found                                                 |\r\n",
      "+-----------------------------------------------------------------------------+\r\n"
     ]
    }
   ],
   "source": [
    "!nvidia-smi"
   ]
  },
  {
   "cell_type": "code",
   "execution_count": 2,
   "id": "55fdb2c4",
   "metadata": {},
   "outputs": [
    {
     "ename": "KeyError",
     "evalue": "0",
     "output_type": "error",
     "traceback": [
      "\u001b[0;31m---------------------------------------------------------------------------\u001b[0m",
      "\u001b[0;31mKeyError\u001b[0m                                  Traceback (most recent call last)",
      "Cell \u001b[0;32mIn [2], line 23\u001b[0m\n\u001b[1;32m     19\u001b[0m     \u001b[38;5;28;01mwith\u001b[39;00m \u001b[38;5;28mopen\u001b[39m(path, \u001b[38;5;124m'\u001b[39m\u001b[38;5;124mrb\u001b[39m\u001b[38;5;124m'\u001b[39m) \u001b[38;5;28;01mas\u001b[39;00m handle:\n\u001b[1;32m     20\u001b[0m         \u001b[38;5;66;03m# get [CLS] activation \u001b[39;00m\n\u001b[1;32m     21\u001b[0m         top_neuron \u001b[38;5;241m=\u001b[39m pickle\u001b[38;5;241m.\u001b[39mload(handle)\n\u001b[0;32m---> 23\u001b[0m     top_neuron \u001b[38;5;241m=\u001b[39m {\u001b[38;5;124mf\u001b[39m\u001b[38;5;124m'\u001b[39m\u001b[38;5;132;01m{\u001b[39;00mlayer\u001b[38;5;132;01m}\u001b[39;00m\u001b[38;5;124m-\u001b[39m\u001b[38;5;132;01m{\u001b[39;00mk\u001b[38;5;132;01m}\u001b[39;00m\u001b[38;5;124m'\u001b[39m:v \u001b[38;5;28;01mfor\u001b[39;00m k, v \u001b[38;5;129;01min\u001b[39;00m \u001b[43mtop_neuron\u001b[49m\u001b[43m[\u001b[49m\u001b[43mlayer\u001b[49m\u001b[43m]\u001b[49m\u001b[38;5;241m.\u001b[39mitems()}\n\u001b[1;32m     24\u001b[0m     top_neurons[do]\u001b[38;5;241m.\u001b[39mupdate(top_neuron)\n\u001b[1;32m     27\u001b[0m x_layer[do] \u001b[38;5;241m=\u001b[39m [k\u001b[38;5;241m.\u001b[39msplit(\u001b[38;5;124m\"\u001b[39m\u001b[38;5;124m-\u001b[39m\u001b[38;5;124m\"\u001b[39m)[\u001b[38;5;241m0\u001b[39m] \u001b[38;5;28;01mfor\u001b[39;00m k, v \u001b[38;5;129;01min\u001b[39;00m top_neurons[do]\u001b[38;5;241m.\u001b[39mitems()]\n",
      "\u001b[0;31mKeyError\u001b[0m: 0"
     ]
    }
   ],
   "source": [
    "import pickle\n",
    "\n",
    "top_neurons = {}\n",
    "top_k = {}\n",
    "x_layer = {}\n",
    "y_nie = {}\n",
    "\n",
    "layers = [0, 1, 2, 3, 4, 5, 6, 8]\n",
    "heads = [*range(0, 12, 1)]\n",
    "\n",
    "for do in ['High-overlap']:\n",
    "    \n",
    "    top_neurons[do] = {}\n",
    "    \n",
    "    for layer in layers[:7]:\n",
    "\n",
    "        path = f'../pickles/top_neuron_{do}_{layer}.pickle'\n",
    "\n",
    "        with open(path, 'rb') as handle:\n",
    "            # get [CLS] activation \n",
    "            top_neuron = pickle.load(handle)\n",
    "        \n",
    "        top_neuron = {f'{layer}-{k}':v for k, v in top_neuron[layer].items()}\n",
    "        top_neurons[do].update(top_neuron)\n",
    "        \n",
    "    \n",
    "    x_layer[do] = [k.split(\"-\")[0] for k, v in top_neurons[do].items()]\n",
    "    y_nie[do] = [float(v) for k, v in top_neurons[do].items()]  "
   ]
  },
  {
   "cell_type": "code",
   "execution_count": null,
   "id": "792913cb",
   "metadata": {},
   "outputs": [],
   "source": []
  },
  {
   "cell_type": "code",
   "execution_count": 33,
   "id": "fc959495",
   "metadata": {},
   "outputs": [
    {
     "name": "stdout",
     "output_type": "stream",
     "text": [
      "0\n",
      "1\n"
     ]
    }
   ],
   "source": [
    "import pandas as pd \n",
    "\n",
    "\n",
    "layer_data = []\n",
    "nie = []\n",
    "treatment = ['High overlap scores','Low overlap scores']\n",
    "treatments = []\n",
    "\n",
    "for idx, do in enumerate(['do-treatment','no-treatment']):    \n",
    "    layer_data.extend(x_layer[do]) \n",
    "    nie.extend(y_nie[do])\n",
    "    print(idx)\n",
    "    treatments.extend([treatment[idx]] * len(x_layer[do]))\n",
    " "
   ]
  },
  {
   "cell_type": "code",
   "execution_count": null,
   "id": "b36ca23a",
   "metadata": {},
   "outputs": [],
   "source": []
  },
  {
   "cell_type": "code",
   "execution_count": 39,
   "id": "8529e7de",
   "metadata": {},
   "outputs": [],
   "source": [
    "d = {'Layers': layer_data,\n",
    "     'NIE':  nie,\n",
    "     'Treatment': treatments}\n",
    "\n",
    "df = pd.DataFrame(data=d)\n"
   ]
  },
  {
   "cell_type": "code",
   "execution_count": 40,
   "id": "99df5ed5",
   "metadata": {},
   "outputs": [
    {
     "data": {
      "text/html": [
       "<div>\n",
       "<style scoped>\n",
       "    .dataframe tbody tr th:only-of-type {\n",
       "        vertical-align: middle;\n",
       "    }\n",
       "\n",
       "    .dataframe tbody tr th {\n",
       "        vertical-align: top;\n",
       "    }\n",
       "\n",
       "    .dataframe thead th {\n",
       "        text-align: right;\n",
       "    }\n",
       "</style>\n",
       "<table border=\"1\" class=\"dataframe\">\n",
       "  <thead>\n",
       "    <tr style=\"text-align: right;\">\n",
       "      <th></th>\n",
       "      <th>Layers</th>\n",
       "      <th>NIE</th>\n",
       "      <th>Treatment</th>\n",
       "    </tr>\n",
       "  </thead>\n",
       "  <tbody>\n",
       "    <tr>\n",
       "      <th>65</th>\n",
       "      <td>6</td>\n",
       "      <td>0.000030</td>\n",
       "      <td>Low overlap scores</td>\n",
       "    </tr>\n",
       "    <tr>\n",
       "      <th>66</th>\n",
       "      <td>6</td>\n",
       "      <td>0.000029</td>\n",
       "      <td>Low overlap scores</td>\n",
       "    </tr>\n",
       "    <tr>\n",
       "      <th>67</th>\n",
       "      <td>6</td>\n",
       "      <td>0.000024</td>\n",
       "      <td>Low overlap scores</td>\n",
       "    </tr>\n",
       "    <tr>\n",
       "      <th>68</th>\n",
       "      <td>6</td>\n",
       "      <td>0.000023</td>\n",
       "      <td>Low overlap scores</td>\n",
       "    </tr>\n",
       "    <tr>\n",
       "      <th>69</th>\n",
       "      <td>6</td>\n",
       "      <td>0.000023</td>\n",
       "      <td>Low overlap scores</td>\n",
       "    </tr>\n",
       "  </tbody>\n",
       "</table>\n",
       "</div>"
      ],
      "text/plain": [
       "   Layers       NIE           Treatment\n",
       "65      6  0.000030  Low overlap scores\n",
       "66      6  0.000029  Low overlap scores\n",
       "67      6  0.000024  Low overlap scores\n",
       "68      6  0.000023  Low overlap scores\n",
       "69      6  0.000023  Low overlap scores"
      ]
     },
     "execution_count": 40,
     "metadata": {},
     "output_type": "execute_result"
    }
   ],
   "source": [
    "df.tail()"
   ]
  },
  {
   "cell_type": "code",
   "execution_count": 41,
   "id": "18db3dcb",
   "metadata": {},
   "outputs": [
    {
     "data": {
      "text/plain": [
       "<AxesSubplot: xlabel='Layers', ylabel='NIE'>"
      ]
     },
     "execution_count": 41,
     "metadata": {},
     "output_type": "execute_result"
    },
    {
     "data": {
      "image/png": "[encoded data removed]",
      "text/plain": [
       "<Figure size 640x480 with 1 Axes>"
      ]
     },
     "metadata": {},
     "output_type": "display_data"
    }
   ],
   "source": [
    "import seaborn as sns\n",
    "sns.set_theme(style=\"darkgrid\")\n",
    "\n",
    "# Plot the responses for different events and regions\n",
    "sns.lineplot(data=df, x=\"Layers\", y='NIE',hue=\"Treatment\")\n",
    "# sns.lineplot(data=fmri, x=\"timepoint\", y=\"signal\", hue=\"event\")"
   ]
  },
  {
   "cell_type": "code",
   "execution_count": 99,
   "id": "b365b1fd",
   "metadata": {},
   "outputs": [],
   "source": []
  },
  {
   "cell_type": "code",
   "execution_count": null,
   "id": "9f7fc1b5",
   "metadata": {},
   "outputs": [],
   "source": []
  },
  {
   "cell_type": "code",
   "execution_count": null,
   "id": "904a3f03",
   "metadata": {},
   "outputs": [],
   "source": []
  },
  {
   "cell_type": "code",
   "execution_count": null,
   "id": "b0cebd21",
   "metadata": {},
   "outputs": [],
   "source": []
  },
  {
   "cell_type": "code",
   "execution_count": null,
   "id": "39769a65",
   "metadata": {},
   "outputs": [],
   "source": []
  },
  {
   "cell_type": "code",
   "execution_count": null,
   "id": "b8765ccd",
   "metadata": {},
   "outputs": [],
   "source": []
  }
 ],
 "metadata": {
  "kernelspec": {
   "display_name": "Python (sit_env)",
   "language": "python",
   "name": "sit_env"
  },
  "language_info": {
   "codemirror_mode": {
    "name": "ipython",
    "version": 3
   },
   "file_extension": ".py",
   "mimetype": "text/x-python",
   "name": "python",
   "nbconvert_exporter": "python",
   "pygments_lexer": "ipython3",
   "version": "3.8.8"
  }
 },
 "nbformat": 4,
 "nbformat_minor": 5
}
