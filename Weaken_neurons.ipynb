{
 "cells": [
  {
   "cell_type": "code",
   "execution_count": 1,
   "id": "5348cfe1",
   "metadata": {},
   "outputs": [
    {
     "name": "stderr",
     "output_type": "stream",
     "text": [
      "/tmp/ipykernel_456065/2196991327.py:3: MatplotlibDeprecationWarning: The seaborn styles shipped by Matplotlib are deprecated since 3.6, as they no longer correspond to the styles shipped by seaborn. However, they will remain available as 'seaborn-v0_8-<style>'. Alternatively, directly use the seaborn API instead.\n",
      "  plt.style.use('seaborn-whitegrid')\n"
     ]
    }
   ],
   "source": [
    "%matplotlib inline\n",
    "import matplotlib.pyplot as plt\n",
    "plt.style.use('seaborn-whitegrid')\n",
    "import torch\n",
    "import pickle\n",
    "import numpy as np\n",
    "from collections import Counter\n",
    "import glob\n",
    "import collections"
   ]
  },
  {
   "cell_type": "code",
   "execution_count": 2,
   "id": "c0b1a472",
   "metadata": {},
   "outputs": [],
   "source": [
    "eval_path = '../pickles/evaluations/'    "
   ]
  },
  {
   "cell_type": "code",
   "execution_count": 4,
   "id": "92e29bae",
   "metadata": {
    "scrolled": false
   },
   "outputs": [],
   "source": [
    "pickle_paths = glob.glob(f\"{eval_path}*/*.pickle\")\n",
    "cleaner_paths = []\n",
    "\n",
    "for path in pickle_paths:\n",
    "      \n",
    "    # preprocessing\n",
    "    if '-' in path.split(\"/\")[3]: continue\n",
    "    if len(path.split('/')[3].split('.')[-1]) != 2: continue\n",
    "    if 'hans' in path: continue\n",
    "    if '0.7936' in path: continue\n",
    "        \n",
    "    cleaner_paths.append(path)\n",
    "    "
   ]
  },
  {
   "cell_type": "code",
   "execution_count": 5,
   "id": "0e0b2d10",
   "metadata": {},
   "outputs": [
    {
     "data": {
      "text/plain": [
       "['../pickles/evaluations/v0.79/neurons_High-overlap_weaken_mismatched.pickle',\n",
       " '../pickles/evaluations/v0.73/neurons_High-overlap_weaken_mismatched.pickle',\n",
       " '../pickles/evaluations/v0.78/neurons_High-overlap_weaken_mismatched.pickle',\n",
       " '../pickles/evaluations/v0.75/neurons_High-overlap_weaken_mismatched.pickle',\n",
       " '../pickles/evaluations/v0.74/neurons_High-overlap_weaken_mismatched.pickle',\n",
       " '../pickles/evaluations/v0.81/neurons_High-overlap_weaken_mismatched.pickle',\n",
       " '../pickles/evaluations/v0.82/neurons_High-overlap_weaken_mismatched.pickle',\n",
       " '../pickles/evaluations/v0.83/neurons_High-overlap_weaken_mismatched.pickle',\n",
       " '../pickles/evaluations/v0.84/neurons_High-overlap_weaken_mismatched.pickle',\n",
       " '../pickles/evaluations/v0.71/neurons_High-overlap_weaken_mismatched.pickle',\n",
       " '../pickles/evaluations/v0.76/neurons_High-overlap_weaken_mismatched.pickle',\n",
       " '../pickles/evaluations/v0.72/neurons_High-overlap_weaken_mismatched.pickle',\n",
       " '../pickles/evaluations/v0.77/neurons_High-overlap_weaken_mismatched.pickle']"
      ]
     },
     "execution_count": 5,
     "metadata": {},
     "output_type": "execute_result"
    }
   ],
   "source": [
    "cleaner_paths"
   ]
  },
  {
   "cell_type": "code",
   "execution_count": 6,
   "id": "469c140f",
   "metadata": {},
   "outputs": [
    {
     "name": "stdout",
     "output_type": "stream",
     "text": [
      "current values : 0.79\n",
      "current values : 0.73\n",
      "current values : 0.78\n",
      "current values : 0.75\n",
      "current values : 0.74\n",
      "current values : 0.81\n",
      "current values : 0.82\n",
      "current values : 0.83\n",
      "current values : 0.84\n",
      "current values : 0.71\n",
      "current values : 0.76\n",
      "current values : 0.72\n",
      "current values : 0.77\n"
     ]
    }
   ],
   "source": [
    "accuracies = {}\n",
    "debug = True\n",
    "scores = {}\n",
    "\n",
    "# weaken activation's accuracies\n",
    "for path in cleaner_paths:\n",
    "    weaken_value = path.split('/')[3].split('v')[-1]\n",
    "\n",
    "    if debug: print(f'current values : {weaken_value}')\n",
    "   \n",
    "    with open(path, 'rb') as handle:\n",
    "        accuracies[weaken_value] = pickle.load(handle) \n",
    "    \n",
    "    for num_neuron in accuracies[weaken_value].keys():\n",
    "\n",
    "        combin = f'{weaken_value}-{num_neuron}-all'\n",
    "        scores[combin] = accuracies[weaken_value][num_neuron]['all']\n",
    "\n",
    "best_key = list(dict(sorted(scores.items(), key=lambda item: item[1])))[-1]\n",
    "best_weaken, best_neuron_group, _ = best_key.split('-')"
   ]
  },
  {
   "cell_type": "code",
   "execution_count": 11,
   "id": "7654d078",
   "metadata": {},
   "outputs": [
    {
     "data": {
      "text/plain": [
       "('0.79', '45')"
      ]
     },
     "execution_count": 11,
     "metadata": {},
     "output_type": "execute_result"
    }
   ],
   "source": [
    "best_weaken, best_neuron_group"
   ]
  },
  {
   "cell_type": "code",
   "execution_count": null,
   "id": "27f6e3e1",
   "metadata": {},
   "outputs": [],
   "source": []
  },
  {
   "cell_type": "code",
   "execution_count": 26,
   "id": "445cd328",
   "metadata": {},
   "outputs": [
    {
     "data": {
      "text/plain": [
       "2"
      ]
     },
     "execution_count": 26,
     "metadata": {},
     "output_type": "execute_result"
    }
   ],
   "source": [
    "low  =  0.75   \n",
    "high =  0.85\n",
    "step =  0.01\n",
    "len(str(step).split('.')[-1])"
   ]
  },
  {
   "cell_type": "code",
   "execution_count": 12,
   "id": "3bb7de52",
   "metadata": {},
   "outputs": [
    {
     "name": "stdout",
     "output_type": "stream",
     "text": [
      "+++++++++++++++ Neural Best Intervention Evaluations ++++++++++++++++++\n",
      "Weaken rate of activation' values : 0.79\n",
      "The number of neurons to intervene : 45\n",
      "all : 0.8503356387306753\n",
      "entail : 0.8693329483107133\n",
      "contradiction : 0.8634259259259259\n",
      "neutral : 0.815755832534356\n"
     ]
    }
   ],
   "source": [
    "print(\"+++++++++++++++ Neural Best Intervention Evaluations ++++++++++++++++++\")\n",
    "print(f\"Weaken rate of activation' values : {best_weaken}\")\n",
    "print(f\"The number of neurons to intervene : {best_neuron_group}\")\n",
    "print(f\"all : {accuracies[best_weaken][int(best_neuron_group)]['all']}\")\n",
    "print(f\"entail : {accuracies[best_weaken][int(best_neuron_group)]['entailment']}\")\n",
    "print(f\"contradiction : {accuracies[best_weaken][int(best_neuron_group)]['contradiction']}\")\n",
    "print(f\"neutral : {accuracies[best_weaken][int(best_neuron_group)]['neutral']}\")"
   ]
  },
  {
   "cell_type": "code",
   "execution_count": 13,
   "id": "d11f2f05",
   "metadata": {},
   "outputs": [
    {
     "name": "stdout",
     "output_type": "stream",
     "text": [
      "+++++++++++++++ Without Neural Intervention Evaluations ++++++++++++++++++\n",
      "all : 0.8487591537835639\n",
      "entail : 0.859370488016171\n",
      "contradiction : 0.8611111111111112\n",
      "neutral : 0.8242249920102269\n"
     ]
    }
   ],
   "source": [
    "print(\"+++++++++++++++ Without Neural Intervention Evaluations ++++++++++++++++++\")\n",
    "print(f\"all : {accuracies[best_weaken][0]['all']}\")\n",
    "print(f\"entail : {accuracies[best_weaken][0]['entailment']}\")\n",
    "print(f\"contradiction : {accuracies[best_weaken][0]['contradiction']}\")\n",
    "print(f\"neutral : {accuracies[best_weaken][0]['neutral']}\")"
   ]
  },
  {
   "cell_type": "code",
   "execution_count": null,
   "id": "1147c6da",
   "metadata": {},
   "outputs": [],
   "source": []
  },
  {
   "cell_type": "code",
   "execution_count": null,
   "id": "99f588f4",
   "metadata": {},
   "outputs": [],
   "source": []
  }
 ],
 "metadata": {
  "kernelspec": {
   "display_name": "Python (sit_env)",
   "language": "python",
   "name": "sit_env"
  },
  "language_info": {
   "codemirror_mode": {
    "name": "ipython",
    "version": 3
   },
   "file_extension": ".py",
   "mimetype": "text/x-python",
   "name": "python",
   "nbconvert_exporter": "python",
   "pygments_lexer": "ipython3",
   "version": "3.8.8"
  }
 },
 "nbformat": 4,
 "nbformat_minor": 5
}
