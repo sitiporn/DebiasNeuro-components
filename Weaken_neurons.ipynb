{
 "cells": [
  {
   "cell_type": "code",
   "execution_count": 1,
   "id": "5348cfe1",
   "metadata": {},
   "outputs": [
    {
     "name": "stderr",
     "output_type": "stream",
     "text": [
      "/tmp/ipykernel_275175/2196991327.py:3: MatplotlibDeprecationWarning: The seaborn styles shipped by Matplotlib are deprecated since 3.6, as they no longer correspond to the styles shipped by seaborn. However, they will remain available as 'seaborn-v0_8-<style>'. Alternatively, directly use the seaborn API instead.\n",
      "  plt.style.use('seaborn-whitegrid')\n"
     ]
    }
   ],
   "source": [
    "%matplotlib inline\n",
    "import matplotlib.pyplot as plt\n",
    "plt.style.use('seaborn-whitegrid')\n",
    "import torch\n",
    "import pickle\n",
    "import numpy as np\n",
    "from collections import Counter\n",
    "import glob\n",
    "import collections"
   ]
  },
  {
   "cell_type": "code",
   "execution_count": 2,
   "id": "c0b1a472",
   "metadata": {},
   "outputs": [],
   "source": [
    "eval_path = '../pickles/evaluations/'    "
   ]
  },
  {
   "cell_type": "code",
   "execution_count": 3,
   "id": "92e29bae",
   "metadata": {
    "scrolled": false
   },
   "outputs": [],
   "source": [
    "pickle_paths = glob.glob(f\"{eval_path}*/*.pickle\")\n",
    "cleaner_paths = []\n",
    "\n",
    "for path in pickle_paths:\n",
    "      \n",
    "    # preprocessing\n",
    "    if '-' in path.split(\"/\")[3]: continue\n",
    "    if len(path.split('/')[3].split('.')[-1]) != 4: continue\n",
    "    if 'hans' in path: continue\n",
    "    if '0.7936' in path: continue\n",
    "        \n",
    "    cleaner_paths.append(path)\n",
    "    "
   ]
  },
  {
   "cell_type": "code",
   "execution_count": 4,
   "id": "0e0b2d10",
   "metadata": {},
   "outputs": [
    {
     "data": {
      "text/plain": [
       "['../pickles/evaluations/v0.3904/neurons_High-overlap_weaken_mismatched.pickle',\n",
       " '../pickles/evaluations/v0.3644/neurons_High-overlap_weaken_mismatched.pickle',\n",
       " '../pickles/evaluations/v0.4294/neurons_High-overlap_weaken_mismatched.pickle',\n",
       " '../pickles/evaluations/v0.8823/neurons_High-overlap_weaken_mismatched.pickle',\n",
       " '../pickles/evaluations/v0.3376/neurons_High-overlap_weaken_mismatched.pickle',\n",
       " '../pickles/evaluations/v0.5739/neurons_High-overlap_weaken_mismatched.pickle',\n",
       " '../pickles/evaluations/v0.7951/neurons_High-overlap_weaken_mismatched.pickle',\n",
       " '../pickles/evaluations/v0.7952/neurons_High-overlap_weaken_mismatched.pickle',\n",
       " '../pickles/evaluations/v0.7953/neurons_High-overlap_weaken_mismatched.pickle',\n",
       " '../pickles/evaluations/v0.1994/neurons_High-overlap_weaken_mismatched.pickle',\n",
       " '../pickles/evaluations/v0.7945/neurons_High-overlap_weaken_mismatched.pickle',\n",
       " '../pickles/evaluations/v0.7946/neurons_High-overlap_weaken_mismatched.pickle',\n",
       " '../pickles/evaluations/v0.1952/neurons_High-overlap_weaken_mismatched.pickle',\n",
       " '../pickles/evaluations/v0.7947/neurons_High-overlap_weaken_mismatched.pickle',\n",
       " '../pickles/evaluations/v0.5472/neurons_High-overlap_weaken_mismatched.pickle',\n",
       " '../pickles/evaluations/v0.9464/neurons_High-overlap_weaken_mismatched.pickle',\n",
       " '../pickles/evaluations/v0.7948/neurons_High-overlap_weaken_mismatched.pickle',\n",
       " '../pickles/evaluations/v0.5895/neurons_High-overlap_weaken_mismatched.pickle',\n",
       " '../pickles/evaluations/v0.5936/neurons_High-overlap_weaken_mismatched.pickle',\n",
       " '../pickles/evaluations/v0.7949/neurons_High-overlap_weaken_mismatched.pickle',\n",
       " '../pickles/evaluations/v0.9408/neurons_High-overlap_weaken_mismatched.pickle',\n",
       " '../pickles/evaluations/v0.9516/neurons_High-overlap_weaken_mismatched.pickle',\n",
       " '../pickles/evaluations/v0.3423/neurons_High-overlap_weaken_mismatched.pickle',\n",
       " '../pickles/evaluations/v0.7104/neurons_High-overlap_weaken_mismatched.pickle',\n",
       " '../pickles/evaluations/v0.7411/neurons_High-overlap_weaken_mismatched.pickle',\n",
       " '../pickles/evaluations/v0.2566/neurons_High-overlap_weaken_mismatched.pickle',\n",
       " '../pickles/evaluations/v0.0753/neurons_High-overlap_weaken_mismatched.pickle',\n",
       " '../pickles/evaluations/v0.2814/neurons_High-overlap_weaken_mismatched.pickle',\n",
       " '../pickles/evaluations/v0.8317/neurons_High-overlap_weaken_mismatched.pickle',\n",
       " '../pickles/evaluations/v0.3829/neurons_High-overlap_weaken_mismatched.pickle',\n",
       " '../pickles/evaluations/v0.5779/neurons_High-overlap_weaken_mismatched.pickle',\n",
       " '../pickles/evaluations/v0.2969/neurons_High-overlap_weaken_mismatched.pickle',\n",
       " '../pickles/evaluations/v0.6009/neurons_High-overlap_weaken_mismatched.pickle',\n",
       " '../pickles/evaluations/v0.5547/neurons_High-overlap_weaken_mismatched.pickle',\n",
       " '../pickles/evaluations/v0.9593/neurons_High-overlap_weaken_mismatched.pickle',\n",
       " '../pickles/evaluations/v0.7886/neurons_High-overlap_weaken_mismatched.pickle',\n",
       " '../pickles/evaluations/v0.1332/neurons_High-overlap_weaken_mismatched.pickle',\n",
       " '../pickles/evaluations/v0.8854/neurons_High-overlap_weaken_mismatched.pickle',\n",
       " '../pickles/evaluations/v0.4414/neurons_High-overlap_weaken_mismatched.pickle',\n",
       " '../pickles/evaluations/v0.5677/neurons_High-overlap_weaken_mismatched.pickle',\n",
       " '../pickles/evaluations/v0.2666/neurons_High-overlap_weaken_mismatched.pickle',\n",
       " '../pickles/evaluations/v0.0062/neurons_High-overlap_weaken_mismatched.pickle',\n",
       " '../pickles/evaluations/v0.2696/neurons_High-overlap_weaken_mismatched.pickle',\n",
       " '../pickles/evaluations/v0.6343/neurons_High-overlap_weaken_mismatched.pickle',\n",
       " '../pickles/evaluations/v0.7954/neurons_High-overlap_weaken_mismatched.pickle',\n",
       " '../pickles/evaluations/v0.7955/neurons_High-overlap_weaken_mismatched.pickle',\n",
       " '../pickles/evaluations/v0.5832/neurons_High-overlap_weaken_mismatched.pickle',\n",
       " '../pickles/evaluations/v0.9346/neurons_High-overlap_weaken_mismatched.pickle',\n",
       " '../pickles/evaluations/v0.3588/neurons_High-overlap_weaken_mismatched.pickle',\n",
       " '../pickles/evaluations/v0.6274/neurons_High-overlap_weaken_mismatched.pickle',\n",
       " '../pickles/evaluations/v0.8694/neurons_High-overlap_weaken_mismatched.pickle',\n",
       " '../pickles/evaluations/v0.1053/neurons_High-overlap_weaken_mismatched.pickle',\n",
       " '../pickles/evaluations/v0.7539/neurons_High-overlap_weaken_mismatched.pickle',\n",
       " '../pickles/evaluations/v0.2695/neurons_High-overlap_weaken_mismatched.pickle']"
      ]
     },
     "execution_count": 4,
     "metadata": {},
     "output_type": "execute_result"
    }
   ],
   "source": [
    "cleaner_paths"
   ]
  },
  {
   "cell_type": "code",
   "execution_count": 5,
   "id": "469c140f",
   "metadata": {},
   "outputs": [
    {
     "name": "stdout",
     "output_type": "stream",
     "text": [
      "current values : 0.3904\n",
      "current values : 0.3644\n",
      "current values : 0.4294\n",
      "current values : 0.8823\n",
      "current values : 0.3376\n",
      "current values : 0.5739\n",
      "current values : 0.7951\n",
      "current values : 0.7952\n",
      "current values : 0.7953\n",
      "current values : 0.1994\n",
      "current values : 0.7945\n",
      "current values : 0.7946\n",
      "current values : 0.1952\n",
      "current values : 0.7947\n",
      "current values : 0.5472\n",
      "current values : 0.9464\n",
      "current values : 0.7948\n",
      "current values : 0.5895\n",
      "current values : 0.5936\n",
      "current values : 0.7949\n",
      "current values : 0.9408\n",
      "current values : 0.9516\n",
      "current values : 0.3423\n",
      "current values : 0.7104\n",
      "current values : 0.7411\n",
      "current values : 0.2566\n",
      "current values : 0.0753\n",
      "current values : 0.2814\n",
      "current values : 0.8317\n",
      "current values : 0.3829\n",
      "current values : 0.5779\n",
      "current values : 0.2969\n",
      "current values : 0.6009\n",
      "current values : 0.5547\n",
      "current values : 0.9593\n",
      "current values : 0.7886\n",
      "current values : 0.1332\n",
      "current values : 0.8854\n",
      "current values : 0.4414\n",
      "current values : 0.5677\n",
      "current values : 0.2666\n",
      "current values : 0.0062\n",
      "current values : 0.2696\n",
      "current values : 0.6343\n",
      "current values : 0.7954\n",
      "current values : 0.7955\n",
      "current values : 0.5832\n",
      "current values : 0.9346\n",
      "current values : 0.3588\n",
      "current values : 0.6274\n",
      "current values : 0.8694\n",
      "current values : 0.1053\n",
      "current values : 0.7539\n",
      "current values : 0.2695\n"
     ]
    }
   ],
   "source": [
    "accuracies = {}\n",
    "debug = True\n",
    "scores = {}\n",
    "\n",
    "# weaken activation's accuracies\n",
    "for path in cleaner_paths:\n",
    "    weaken_value = path.split('/')[3].split('v')[-1]\n",
    "\n",
    "    if debug: print(f'current values : {weaken_value}')\n",
    "   \n",
    "    with open(path, 'rb') as handle:\n",
    "        accuracies[weaken_value] = pickle.load(handle) \n",
    "    \n",
    "    for num_neuron in accuracies[weaken_value].keys():\n",
    "\n",
    "        combin = f'{weaken_value}-{num_neuron}-all'\n",
    "        scores[combin] = accuracies[weaken_value][num_neuron]['all']\n",
    "\n",
    "best_key = list(dict(sorted(scores.items(), key=lambda item: item[1])))[-1]\n",
    "best_weaken, best_neuron_group, _ = best_key.split('-')"
   ]
  },
  {
   "cell_type": "code",
   "execution_count": 6,
   "id": "2787dbbb",
   "metadata": {},
   "outputs": [
    {
     "data": {
      "text/plain": [
       "0.7945"
      ]
     },
     "execution_count": 6,
     "metadata": {},
     "output_type": "execute_result"
    }
   ],
   "source": [
    "round(0.795 - 0.0005,4)"
   ]
  },
  {
   "cell_type": "code",
   "execution_count": 7,
   "id": "331d6cfe",
   "metadata": {},
   "outputs": [
    {
     "data": {
      "text/plain": [
       "0.7955"
      ]
     },
     "execution_count": 7,
     "metadata": {},
     "output_type": "execute_result"
    }
   ],
   "source": [
    "round(0.795 + 0.0005,4)"
   ]
  },
  {
   "cell_type": "code",
   "execution_count": 8,
   "id": "daffccfe",
   "metadata": {},
   "outputs": [
    {
     "data": {
      "text/plain": [
       "0.7949999999999999"
      ]
     },
     "execution_count": 8,
     "metadata": {},
     "output_type": "execute_result"
    }
   ],
   "source": [
    "0.7945 + 0.0005"
   ]
  },
  {
   "cell_type": "code",
   "execution_count": 9,
   "id": "7654d078",
   "metadata": {},
   "outputs": [
    {
     "data": {
      "text/plain": [
       "('0.7886', '45')"
      ]
     },
     "execution_count": 9,
     "metadata": {},
     "output_type": "execute_result"
    }
   ],
   "source": [
    "best_weaken, best_neuron_group"
   ]
  },
  {
   "cell_type": "code",
   "execution_count": null,
   "id": "27f6e3e1",
   "metadata": {},
   "outputs": [],
   "source": []
  },
  {
   "cell_type": "code",
   "execution_count": null,
   "id": "445cd328",
   "metadata": {},
   "outputs": [],
   "source": []
  },
  {
   "cell_type": "code",
   "execution_count": 10,
   "id": "3bb7de52",
   "metadata": {},
   "outputs": [
    {
     "name": "stdout",
     "output_type": "stream",
     "text": [
      "+++++++++++++++ Neural Best Intervention Evaluations ++++++++++++++++++\n",
      "Weaken rate of activation' values : 0.7886\n",
      "The number of neurons to intervene : 45\n",
      "all : 0.8502339300244101\n",
      "entail : 0.8693329483107133\n",
      "contradiction : 0.8632716049382716\n",
      "neutral : 0.8155960370725471\n"
     ]
    }
   ],
   "source": [
    "print(\"+++++++++++++++ Neural Best Intervention Evaluations ++++++++++++++++++\")\n",
    "print(f\"Weaken rate of activation' values : {best_weaken}\")\n",
    "print(f\"The number of neurons to intervene : {best_neuron_group}\")\n",
    "print(f\"all : {accuracies[best_weaken][int(best_neuron_group)]['all']}\")\n",
    "print(f\"entail : {accuracies[best_weaken][int(best_neuron_group)]['entailment']}\")\n",
    "print(f\"contradiction : {accuracies[best_weaken][int(best_neuron_group)]['contradiction']}\")\n",
    "print(f\"neutral : {accuracies[best_weaken][int(best_neuron_group)]['neutral']}\")"
   ]
  },
  {
   "cell_type": "code",
   "execution_count": 13,
   "id": "d11f2f05",
   "metadata": {},
   "outputs": [
    {
     "name": "stdout",
     "output_type": "stream",
     "text": [
      "+++++++++++++++ Without Neural Intervention Evaluations ++++++++++++++++++\n",
      "all : 0.8487591537835639\n",
      "entail : 0.859370488016171\n",
      "contradiction : 0.8611111111111112\n",
      "neutral : 0.8242249920102269\n"
     ]
    }
   ],
   "source": [
    "print(\"+++++++++++++++ Without Neural Intervention Evaluations ++++++++++++++++++\")\n",
    "print(f\"all : {accuracies[best_weaken][0]['all']}\")\n",
    "print(f\"entail : {accuracies[best_weaken][0]['entailment']}\")\n",
    "print(f\"contradiction : {accuracies[best_weaken][0]['contradiction']}\")\n",
    "print(f\"neutral : {accuracies[best_weaken][0]['neutral']}\")"
   ]
  },
  {
   "cell_type": "code",
   "execution_count": null,
   "id": "1147c6da",
   "metadata": {},
   "outputs": [],
   "source": []
  },
  {
   "cell_type": "code",
   "execution_count": null,
   "id": "99f588f4",
   "metadata": {},
   "outputs": [],
   "source": []
  }
 ],
 "metadata": {
  "kernelspec": {
   "display_name": "Python (sit_env)",
   "language": "python",
   "name": "sit_env"
  },
  "language_info": {
   "codemirror_mode": {
    "name": "ipython",
    "version": 3
   },
   "file_extension": ".py",
   "mimetype": "text/x-python",
   "name": "python",
   "nbconvert_exporter": "python",
   "pygments_lexer": "ipython3",
   "version": "3.8.8"
  }
 },
 "nbformat": 4,
 "nbformat_minor": 5
}
