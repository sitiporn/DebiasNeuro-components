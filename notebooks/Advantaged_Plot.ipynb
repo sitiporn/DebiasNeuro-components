{
 "cells": [
  {
   "cell_type": "code",
   "execution_count": 1,
   "id": "13689b3e",
   "metadata": {},
   "outputs": [],
   "source": [
    "import yaml \n",
    "import pandas as pd\n",
    "import os\n",
    "from collections import Counter\n",
    "import numpy as np\n",
    "import torch\n",
    "import tqdm\n",
    "import pickle\n",
    "from sklearn.metrics import accuracy_score\n",
    "import evaluate"
   ]
  },
  {
   "cell_type": "code",
   "execution_count": 2,
   "id": "82cb0ef6",
   "metadata": {},
   "outputs": [],
   "source": [
    "config_path = \"../configs/pcgu_config.yaml\"\n",
    "with open(config_path, \"r\") as yamlfile:\n",
    "    config = yaml.load(yamlfile, Loader=yaml.FullLoader)"
   ]
  },
  {
   "cell_type": "code",
   "execution_count": 3,
   "id": "37a04a1e",
   "metadata": {},
   "outputs": [],
   "source": [
    "biased_label_maps = {\"entailment\": 0, \"contradiction\": 1, \"neutral\": 2}\n",
    "main_label_maps = {\"contradiction\": 0, \"entailment\": 1, \"neutral\": 2}\n",
    "biased_label_remaps = {v:k for k,v in biased_label_maps.items()}\n",
    "main_label_remaps = {v:k for k,v in main_label_maps.items()}"
   ]
  },
  {
   "cell_type": "code",
   "execution_count": 4,
   "id": "15b46b03",
   "metadata": {},
   "outputs": [],
   "source": [
    "# Consider Entailment class  \n",
    "# if a biased model is correct: \n",
    "#  - a main model is correct -> it's actually entailment samples -> disadvantaged samples\n",
    "#  - a main model is incorrect -> *** advantaged samples\n",
    "# if a biased model is incorrect -> disadvantaged samples "
   ]
  },
  {
   "cell_type": "code",
   "execution_count": 5,
   "id": "574c5cc1",
   "metadata": {},
   "outputs": [
    {
     "name": "stdout",
     "output_type": "stream",
     "text": [
      "(130899, 8)\n",
      "(130899, 6)\n"
     ]
    }
   ],
   "source": [
    "seed = 42\n",
    "path = f'../../pickles/advantaged/{seed}_inferences.pickle'\n",
    "with open(path, 'rb') as handle: \n",
    "    main_df = pickle.load(handle)\n",
    "    biased_df = pickle.load(handle)\n",
    "main_df['results'] = main_df['results'].apply(lambda row: bool(row))\n",
    "entail_main_df = main_df.loc[main_df['gold_label'] == main_label_maps['entailment']]\n",
    "entail_biased_df = biased_df.loc[biased_df['gold_label'] == biased_label_remaps[0]]\n",
    "entail_biased_df.shape == entail_main_df.shape\n",
    "print(entail_biased_df.shape )\n",
    "print(entail_main_df.shape)"
   ]
  },
  {
   "cell_type": "code",
   "execution_count": null,
   "id": "0dd81944",
   "metadata": {},
   "outputs": [],
   "source": []
  },
  {
   "cell_type": "code",
   "execution_count": 6,
   "id": "9d017d00",
   "metadata": {},
   "outputs": [],
   "source": [
    "# if a biased model is correct: \n",
    "#  - a main model is incorrect -> *** advantaged samples"
   ]
  },
  {
   "cell_type": "code",
   "execution_count": 7,
   "id": "757ecf18",
   "metadata": {},
   "outputs": [],
   "source": [
    "# select samples base on main model \n",
    "advantaged  = []\n",
    "for idx in range(entail_main_df.shape[0]):\n",
    "    if entail_main_df['results'].iloc[idx] ==  False and entail_biased_df['results'].iloc[idx] == True:\n",
    "        advantaged.append(True)\n",
    "    else: \n",
    "        advantaged.append(False)"
   ]
  },
  {
   "cell_type": "code",
   "execution_count": 8,
   "id": "1c0a5382",
   "metadata": {},
   "outputs": [
    {
     "data": {
      "text/plain": [
       "True"
      ]
     },
     "execution_count": 8,
     "metadata": {},
     "output_type": "execute_result"
    }
   ],
   "source": [
    "advantaged_main = entail_main_df[advantaged]\n",
    "advantaged_bias = entail_biased_df[advantaged]\n",
    "advantaged_main.shape[0] == advantaged_bias.shape[0]"
   ]
  },
  {
   "cell_type": "code",
   "execution_count": 9,
   "id": "fa5a9bf6",
   "metadata": {},
   "outputs": [
    {
     "data": {
      "text/html": [
       "<div>\n",
       "<style scoped>\n",
       "    .dataframe tbody tr th:only-of-type {\n",
       "        vertical-align: middle;\n",
       "    }\n",
       "\n",
       "    .dataframe tbody tr th {\n",
       "        vertical-align: top;\n",
       "    }\n",
       "\n",
       "    .dataframe thead th {\n",
       "        text-align: right;\n",
       "    }\n",
       "</style>\n",
       "<table border=\"1\" class=\"dataframe\">\n",
       "  <thead>\n",
       "    <tr style=\"text-align: right;\">\n",
       "      <th></th>\n",
       "      <th>gold_label</th>\n",
       "      <th>sentence1</th>\n",
       "      <th>sentence2</th>\n",
       "      <th>probs</th>\n",
       "      <th>predictions</th>\n",
       "      <th>results</th>\n",
       "    </tr>\n",
       "  </thead>\n",
       "  <tbody>\n",
       "    <tr>\n",
       "      <th>140</th>\n",
       "      <td>1</td>\n",
       "      <td>In 2000, GNP was less than GDP because income ...</td>\n",
       "      <td>The US paid more to the rest of the world than...</td>\n",
       "      <td>[tensor(0.6651), tensor(0.2072), tensor(0.1277)]</td>\n",
       "      <td>0</td>\n",
       "      <td>False</td>\n",
       "    </tr>\n",
       "    <tr>\n",
       "      <th>177</th>\n",
       "      <td>1</td>\n",
       "      <td>okay pro football i like two teams one the New...</td>\n",
       "      <td>The New York Giants and Raiders are my favorit...</td>\n",
       "      <td>[tensor(0.0063), tensor(0.4472), tensor(0.5465)]</td>\n",
       "      <td>2</td>\n",
       "      <td>False</td>\n",
       "    </tr>\n",
       "    <tr>\n",
       "      <th>338</th>\n",
       "      <td>1</td>\n",
       "      <td>they use the the injection thing or whatever i...</td>\n",
       "      <td>They use lethal injection.</td>\n",
       "      <td>[tensor(0.0175), tensor(0.1599), tensor(0.8226)]</td>\n",
       "      <td>2</td>\n",
       "      <td>False</td>\n",
       "    </tr>\n",
       "    <tr>\n",
       "      <th>357</th>\n",
       "      <td>1</td>\n",
       "      <td>i think on the local elections it's actually u...</td>\n",
       "      <td>I think more people vote during the presidenti...</td>\n",
       "      <td>[tensor(0.2607), tensor(0.3458), tensor(0.3935)]</td>\n",
       "      <td>2</td>\n",
       "      <td>False</td>\n",
       "    </tr>\n",
       "    <tr>\n",
       "      <th>712</th>\n",
       "      <td>1</td>\n",
       "      <td>Physicians are unlikely to screen if it affect...</td>\n",
       "      <td>Physicians are doctors for children.</td>\n",
       "      <td>[tensor(0.1554), tensor(0.0077), tensor(0.8369)]</td>\n",
       "      <td>2</td>\n",
       "      <td>False</td>\n",
       "    </tr>\n",
       "  </tbody>\n",
       "</table>\n",
       "</div>"
      ],
      "text/plain": [
       "     gold_label                                          sentence1  \\\n",
       "140           1  In 2000, GNP was less than GDP because income ...   \n",
       "177           1  okay pro football i like two teams one the New...   \n",
       "338           1  they use the the injection thing or whatever i...   \n",
       "357           1  i think on the local elections it's actually u...   \n",
       "712           1  Physicians are unlikely to screen if it affect...   \n",
       "\n",
       "                                             sentence2  \\\n",
       "140  The US paid more to the rest of the world than...   \n",
       "177  The New York Giants and Raiders are my favorit...   \n",
       "338                         They use lethal injection.   \n",
       "357  I think more people vote during the presidenti...   \n",
       "712               Physicians are doctors for children.   \n",
       "\n",
       "                                                probs  predictions  results  \n",
       "140  [tensor(0.6651), tensor(0.2072), tensor(0.1277)]            0    False  \n",
       "177  [tensor(0.0063), tensor(0.4472), tensor(0.5465)]            2    False  \n",
       "338  [tensor(0.0175), tensor(0.1599), tensor(0.8226)]            2    False  \n",
       "357  [tensor(0.2607), tensor(0.3458), tensor(0.3935)]            2    False  \n",
       "712  [tensor(0.1554), tensor(0.0077), tensor(0.8369)]            2    False  "
      ]
     },
     "execution_count": 9,
     "metadata": {},
     "output_type": "execute_result"
    }
   ],
   "source": [
    "advantaged_main.head()"
   ]
  },
  {
   "cell_type": "code",
   "execution_count": 10,
   "id": "6ce46802",
   "metadata": {},
   "outputs": [
    {
     "data": {
      "text/html": [
       "<div>\n",
       "<style scoped>\n",
       "    .dataframe tbody tr th:only-of-type {\n",
       "        vertical-align: middle;\n",
       "    }\n",
       "\n",
       "    .dataframe tbody tr th {\n",
       "        vertical-align: top;\n",
       "    }\n",
       "\n",
       "    .dataframe thead th {\n",
       "        text-align: right;\n",
       "    }\n",
       "</style>\n",
       "<table border=\"1\" class=\"dataframe\">\n",
       "  <thead>\n",
       "    <tr style=\"text-align: right;\">\n",
       "      <th></th>\n",
       "      <th>gold_label</th>\n",
       "      <th>sentence1</th>\n",
       "      <th>sentence2</th>\n",
       "      <th>bias_probs</th>\n",
       "      <th>predictions</th>\n",
       "      <th>results</th>\n",
       "      <th>gold_label_ids</th>\n",
       "      <th>prediction_ids</th>\n",
       "    </tr>\n",
       "  </thead>\n",
       "  <tbody>\n",
       "    <tr>\n",
       "      <th>140</th>\n",
       "      <td>entailment</td>\n",
       "      <td>In 2000, GNP was less than GDP because income ...</td>\n",
       "      <td>The US paid more to the rest of the world than...</td>\n",
       "      <td>[0.5558644133, 0.263421695, 0.18071389170000002]</td>\n",
       "      <td>entailment</td>\n",
       "      <td>True</td>\n",
       "      <td>0</td>\n",
       "      <td>0</td>\n",
       "    </tr>\n",
       "    <tr>\n",
       "      <th>177</th>\n",
       "      <td>entailment</td>\n",
       "      <td>okay pro football i like two teams one the New...</td>\n",
       "      <td>The New York Giants and Raiders are my favorit...</td>\n",
       "      <td>[0.4405454292, 0.31046144140000004, 0.2489931294]</td>\n",
       "      <td>entailment</td>\n",
       "      <td>True</td>\n",
       "      <td>0</td>\n",
       "      <td>0</td>\n",
       "    </tr>\n",
       "    <tr>\n",
       "      <th>338</th>\n",
       "      <td>entailment</td>\n",
       "      <td>they use the the injection thing or whatever i...</td>\n",
       "      <td>They use lethal injection.</td>\n",
       "      <td>[0.3791886834, 0.3314555106, 0.289355806]</td>\n",
       "      <td>entailment</td>\n",
       "      <td>True</td>\n",
       "      <td>0</td>\n",
       "      <td>0</td>\n",
       "    </tr>\n",
       "    <tr>\n",
       "      <th>357</th>\n",
       "      <td>entailment</td>\n",
       "      <td>i think on the local elections it's actually u...</td>\n",
       "      <td>I think more people vote during the presidenti...</td>\n",
       "      <td>[0.5033300255000001, 0.285967647, 0.2107023274]</td>\n",
       "      <td>entailment</td>\n",
       "      <td>True</td>\n",
       "      <td>0</td>\n",
       "      <td>0</td>\n",
       "    </tr>\n",
       "    <tr>\n",
       "      <th>712</th>\n",
       "      <td>entailment</td>\n",
       "      <td>Physicians are unlikely to screen if it affect...</td>\n",
       "      <td>Physicians are doctors for children.</td>\n",
       "      <td>[0.4530503587, 0.30581083400000003, 0.2411388073]</td>\n",
       "      <td>entailment</td>\n",
       "      <td>True</td>\n",
       "      <td>0</td>\n",
       "      <td>0</td>\n",
       "    </tr>\n",
       "  </tbody>\n",
       "</table>\n",
       "</div>"
      ],
      "text/plain": [
       "     gold_label                                          sentence1  \\\n",
       "140  entailment  In 2000, GNP was less than GDP because income ...   \n",
       "177  entailment  okay pro football i like two teams one the New...   \n",
       "338  entailment  they use the the injection thing or whatever i...   \n",
       "357  entailment  i think on the local elections it's actually u...   \n",
       "712  entailment  Physicians are unlikely to screen if it affect...   \n",
       "\n",
       "                                             sentence2  \\\n",
       "140  The US paid more to the rest of the world than...   \n",
       "177  The New York Giants and Raiders are my favorit...   \n",
       "338                         They use lethal injection.   \n",
       "357  I think more people vote during the presidenti...   \n",
       "712               Physicians are doctors for children.   \n",
       "\n",
       "                                            bias_probs predictions  results  \\\n",
       "140   [0.5558644133, 0.263421695, 0.18071389170000002]  entailment     True   \n",
       "177  [0.4405454292, 0.31046144140000004, 0.2489931294]  entailment     True   \n",
       "338          [0.3791886834, 0.3314555106, 0.289355806]  entailment     True   \n",
       "357    [0.5033300255000001, 0.285967647, 0.2107023274]  entailment     True   \n",
       "712  [0.4530503587, 0.30581083400000003, 0.2411388073]  entailment     True   \n",
       "\n",
       "     gold_label_ids  prediction_ids  \n",
       "140               0               0  \n",
       "177               0               0  \n",
       "338               0               0  \n",
       "357               0               0  \n",
       "712               0               0  "
      ]
     },
     "execution_count": 10,
     "metadata": {},
     "output_type": "execute_result"
    }
   ],
   "source": [
    "advantaged_bias.head()"
   ]
  },
  {
   "cell_type": "code",
   "execution_count": 11,
   "id": "bedef05d",
   "metadata": {},
   "outputs": [],
   "source": [
    "bias_probs = []\n",
    "for row_idx, row  in advantaged_bias.iterrows():\n",
    "    bias_probs.append(row['bias_probs'])\n",
    "bias_probs = torch.tensor(bias_probs)"
   ]
  },
  {
   "cell_type": "code",
   "execution_count": 12,
   "id": "7e653215",
   "metadata": {},
   "outputs": [
    {
     "data": {
      "text/plain": [
       "dict_keys(['entailment', 'contradiction', 'neutral'])"
      ]
     },
     "execution_count": 12,
     "metadata": {},
     "output_type": "execute_result"
    }
   ],
   "source": [
    "biased_label_maps.keys()"
   ]
  },
  {
   "cell_type": "code",
   "execution_count": 13,
   "id": "aef417a3",
   "metadata": {},
   "outputs": [
    {
     "ename": "OptionError",
     "evalue": "\"No such keys(s): 'mode.use_inf_as_null'\"",
     "output_type": "error",
     "traceback": [
      "\u001b[0;31m---------------------------------------------------------------------------\u001b[0m",
      "\u001b[0;31mOptionError\u001b[0m                               Traceback (most recent call last)",
      "Cell \u001b[0;32mIn [13], line 4\u001b[0m\n\u001b[1;32m      1\u001b[0m \u001b[38;5;28;01mimport\u001b[39;00m \u001b[38;5;21;01mmatplotlib\u001b[39;00m\u001b[38;5;21;01m.\u001b[39;00m\u001b[38;5;21;01mpyplot\u001b[39;00m \u001b[38;5;28;01mas\u001b[39;00m \u001b[38;5;21;01mplt\u001b[39;00m\n\u001b[1;32m      2\u001b[0m \u001b[38;5;28;01mimport\u001b[39;00m \u001b[38;5;21;01mseaborn\u001b[39;00m \u001b[38;5;28;01mas\u001b[39;00m \u001b[38;5;21;01msns\u001b[39;00m\n\u001b[0;32m----> 4\u001b[0m ax \u001b[38;5;241m=\u001b[39m \u001b[43msns\u001b[49m\u001b[38;5;241;43m.\u001b[39;49m\u001b[43mdisplot\u001b[49m\u001b[43m(\u001b[49m\u001b[43mbias_probs\u001b[49m\u001b[43m[\u001b[49m\u001b[43m:\u001b[49m\u001b[43m,\u001b[49m\u001b[43mbiased_label_maps\u001b[49m\u001b[43m[\u001b[49m\u001b[38;5;124;43m'\u001b[39;49m\u001b[38;5;124;43mentailment\u001b[39;49m\u001b[38;5;124;43m'\u001b[39;49m\u001b[43m]\u001b[49m\u001b[43m]\u001b[49m\u001b[43m,\u001b[49m\u001b[43m \u001b[49m\u001b[43mkde\u001b[49m\u001b[38;5;241;43m=\u001b[39;49m\u001b[38;5;28;43;01mTrue\u001b[39;49;00m\u001b[43m,\u001b[49m\u001b[43mbinwidth\u001b[49m\u001b[38;5;241;43m=\u001b[39;49m\u001b[38;5;241;43m0.010\u001b[39;49m\u001b[43m)\u001b[49m\u001b[38;5;241m.\u001b[39mset(title\u001b[38;5;241m=\u001b[39m\u001b[38;5;124m'\u001b[39m\u001b[38;5;124mBias Model Distributions\u001b[39m\u001b[38;5;124m'\u001b[39m)\n\u001b[1;32m      5\u001b[0m ax\u001b[38;5;241m.\u001b[39mset(xlabel\u001b[38;5;241m=\u001b[39m\u001b[38;5;124m'\u001b[39m\u001b[38;5;124mProbabilities Of Entailment Class\u001b[39m\u001b[38;5;124m'\u001b[39m, ylabel\u001b[38;5;241m=\u001b[39m\u001b[38;5;124m'\u001b[39m\u001b[38;5;124mCount\u001b[39m\u001b[38;5;124m'\u001b[39m)\n\u001b[1;32m      6\u001b[0m plt\u001b[38;5;241m.\u001b[39mshow()\n",
      "File \u001b[0;32m~/anaconda3/envs/sit_env/lib/python3.8/site-packages/seaborn/distributions.py:2210\u001b[0m, in \u001b[0;36mdisplot\u001b[0;34m(data, x, y, hue, row, col, weights, kind, rug, rug_kws, log_scale, legend, palette, hue_order, hue_norm, color, col_wrap, row_order, col_order, height, aspect, facet_kws, **kwargs)\u001b[0m\n\u001b[1;32m   2207\u001b[0m \u001b[38;5;28;01mif\u001b[39;00m p\u001b[38;5;241m.\u001b[39munivariate:\n\u001b[1;32m   2209\u001b[0m     _assign_default_kwargs(hist_kws, p\u001b[38;5;241m.\u001b[39mplot_univariate_histogram, histplot)\n\u001b[0;32m-> 2210\u001b[0m     \u001b[43mp\u001b[49m\u001b[38;5;241;43m.\u001b[39;49m\u001b[43mplot_univariate_histogram\u001b[49m\u001b[43m(\u001b[49m\u001b[38;5;241;43m*\u001b[39;49m\u001b[38;5;241;43m*\u001b[39;49m\u001b[43mhist_kws\u001b[49m\u001b[43m)\u001b[49m\n\u001b[1;32m   2212\u001b[0m \u001b[38;5;28;01melse\u001b[39;00m:\n\u001b[1;32m   2214\u001b[0m     _assign_default_kwargs(hist_kws, p\u001b[38;5;241m.\u001b[39mplot_bivariate_histogram, histplot)\n",
      "File \u001b[0;32m~/anaconda3/envs/sit_env/lib/python3.8/site-packages/seaborn/distributions.py:430\u001b[0m, in \u001b[0;36m_DistributionPlotter.plot_univariate_histogram\u001b[0;34m(self, multiple, element, fill, common_norm, common_bins, shrink, kde, kde_kws, color, legend, line_kws, estimate_kws, **plot_kws)\u001b[0m\n\u001b[1;32m    427\u001b[0m histograms \u001b[38;5;241m=\u001b[39m {}\n\u001b[1;32m    429\u001b[0m \u001b[38;5;66;03m# Do pre-compute housekeeping related to multiple groups\u001b[39;00m\n\u001b[0;32m--> 430\u001b[0m all_data \u001b[38;5;241m=\u001b[39m \u001b[38;5;28;43mself\u001b[39;49m\u001b[38;5;241;43m.\u001b[39;49m\u001b[43mcomp_data\u001b[49m\u001b[38;5;241m.\u001b[39mdropna()\n\u001b[1;32m    431\u001b[0m all_weights \u001b[38;5;241m=\u001b[39m all_data\u001b[38;5;241m.\u001b[39mget(\u001b[38;5;124m\"\u001b[39m\u001b[38;5;124mweights\u001b[39m\u001b[38;5;124m\"\u001b[39m, \u001b[38;5;28;01mNone\u001b[39;00m)\n\u001b[1;32m    433\u001b[0m multiple_histograms \u001b[38;5;241m=\u001b[39m \u001b[38;5;28mset\u001b[39m(\u001b[38;5;28mself\u001b[39m\u001b[38;5;241m.\u001b[39mvariables) \u001b[38;5;241m-\u001b[39m {\u001b[38;5;124m\"\u001b[39m\u001b[38;5;124mx\u001b[39m\u001b[38;5;124m\"\u001b[39m, \u001b[38;5;124m\"\u001b[39m\u001b[38;5;124my\u001b[39m\u001b[38;5;124m\"\u001b[39m}\n",
      "File \u001b[0;32m~/anaconda3/envs/sit_env/lib/python3.8/site-packages/seaborn/_oldcore.py:1119\u001b[0m, in \u001b[0;36mVectorPlotter.comp_data\u001b[0;34m(self)\u001b[0m\n\u001b[1;32m   1117\u001b[0m grouped \u001b[38;5;241m=\u001b[39m \u001b[38;5;28mself\u001b[39m\u001b[38;5;241m.\u001b[39mplot_data[var]\u001b[38;5;241m.\u001b[39mgroupby(\u001b[38;5;28mself\u001b[39m\u001b[38;5;241m.\u001b[39mconverters[var], sort\u001b[38;5;241m=\u001b[39m\u001b[38;5;28;01mFalse\u001b[39;00m)\n\u001b[1;32m   1118\u001b[0m \u001b[38;5;28;01mfor\u001b[39;00m converter, orig \u001b[38;5;129;01min\u001b[39;00m grouped:\n\u001b[0;32m-> 1119\u001b[0m     \u001b[38;5;28;01mwith\u001b[39;00m pd\u001b[38;5;241m.\u001b[39moption_context(\u001b[38;5;124m'\u001b[39m\u001b[38;5;124mmode.use_inf_as_null\u001b[39m\u001b[38;5;124m'\u001b[39m, \u001b[38;5;28;01mTrue\u001b[39;00m):\n\u001b[1;32m   1120\u001b[0m         orig \u001b[38;5;241m=\u001b[39m orig\u001b[38;5;241m.\u001b[39mdropna()\n\u001b[1;32m   1121\u001b[0m         \u001b[38;5;28;01mif\u001b[39;00m var \u001b[38;5;129;01min\u001b[39;00m \u001b[38;5;28mself\u001b[39m\u001b[38;5;241m.\u001b[39mvar_levels:\n\u001b[1;32m   1122\u001b[0m             \u001b[38;5;66;03m# TODO this should happen in some centralized location\u001b[39;00m\n\u001b[1;32m   1123\u001b[0m             \u001b[38;5;66;03m# it is similar to GH2419, but more complicated because\u001b[39;00m\n\u001b[1;32m   1124\u001b[0m             \u001b[38;5;66;03m# supporting `order` in categorical plots is tricky\u001b[39;00m\n",
      "File \u001b[0;32m~/anaconda3/envs/sit_env/lib/python3.8/site-packages/pandas/_config/config.py:441\u001b[0m, in \u001b[0;36moption_context.__enter__\u001b[0;34m(self)\u001b[0m\n\u001b[1;32m    440\u001b[0m \u001b[38;5;28;01mdef\u001b[39;00m \u001b[38;5;21m__enter__\u001b[39m(\u001b[38;5;28mself\u001b[39m) \u001b[38;5;241m-\u001b[39m\u001b[38;5;241m>\u001b[39m \u001b[38;5;28;01mNone\u001b[39;00m:\n\u001b[0;32m--> 441\u001b[0m     \u001b[38;5;28mself\u001b[39m\u001b[38;5;241m.\u001b[39mundo \u001b[38;5;241m=\u001b[39m [(pat, _get_option(pat, silent\u001b[38;5;241m=\u001b[39m\u001b[38;5;28;01mTrue\u001b[39;00m)) \u001b[38;5;28;01mfor\u001b[39;00m pat, val \u001b[38;5;129;01min\u001b[39;00m \u001b[38;5;28mself\u001b[39m\u001b[38;5;241m.\u001b[39mops]\n\u001b[1;32m    443\u001b[0m     \u001b[38;5;28;01mfor\u001b[39;00m pat, val \u001b[38;5;129;01min\u001b[39;00m \u001b[38;5;28mself\u001b[39m\u001b[38;5;241m.\u001b[39mops:\n\u001b[1;32m    444\u001b[0m         _set_option(pat, val, silent\u001b[38;5;241m=\u001b[39m\u001b[38;5;28;01mTrue\u001b[39;00m)\n",
      "File \u001b[0;32m~/anaconda3/envs/sit_env/lib/python3.8/site-packages/pandas/_config/config.py:441\u001b[0m, in \u001b[0;36m<listcomp>\u001b[0;34m(.0)\u001b[0m\n\u001b[1;32m    440\u001b[0m \u001b[38;5;28;01mdef\u001b[39;00m \u001b[38;5;21m__enter__\u001b[39m(\u001b[38;5;28mself\u001b[39m) \u001b[38;5;241m-\u001b[39m\u001b[38;5;241m>\u001b[39m \u001b[38;5;28;01mNone\u001b[39;00m:\n\u001b[0;32m--> 441\u001b[0m     \u001b[38;5;28mself\u001b[39m\u001b[38;5;241m.\u001b[39mundo \u001b[38;5;241m=\u001b[39m [(pat, \u001b[43m_get_option\u001b[49m\u001b[43m(\u001b[49m\u001b[43mpat\u001b[49m\u001b[43m,\u001b[49m\u001b[43m \u001b[49m\u001b[43msilent\u001b[49m\u001b[38;5;241;43m=\u001b[39;49m\u001b[38;5;28;43;01mTrue\u001b[39;49;00m\u001b[43m)\u001b[49m) \u001b[38;5;28;01mfor\u001b[39;00m pat, val \u001b[38;5;129;01min\u001b[39;00m \u001b[38;5;28mself\u001b[39m\u001b[38;5;241m.\u001b[39mops]\n\u001b[1;32m    443\u001b[0m     \u001b[38;5;28;01mfor\u001b[39;00m pat, val \u001b[38;5;129;01min\u001b[39;00m \u001b[38;5;28mself\u001b[39m\u001b[38;5;241m.\u001b[39mops:\n\u001b[1;32m    444\u001b[0m         _set_option(pat, val, silent\u001b[38;5;241m=\u001b[39m\u001b[38;5;28;01mTrue\u001b[39;00m)\n",
      "File \u001b[0;32m~/anaconda3/envs/sit_env/lib/python3.8/site-packages/pandas/_config/config.py:135\u001b[0m, in \u001b[0;36m_get_option\u001b[0;34m(pat, silent)\u001b[0m\n\u001b[1;32m    134\u001b[0m \u001b[38;5;28;01mdef\u001b[39;00m \u001b[38;5;21m_get_option\u001b[39m(pat: \u001b[38;5;28mstr\u001b[39m, silent: \u001b[38;5;28mbool\u001b[39m \u001b[38;5;241m=\u001b[39m \u001b[38;5;28;01mFalse\u001b[39;00m) \u001b[38;5;241m-\u001b[39m\u001b[38;5;241m>\u001b[39m Any:\n\u001b[0;32m--> 135\u001b[0m     key \u001b[38;5;241m=\u001b[39m \u001b[43m_get_single_key\u001b[49m\u001b[43m(\u001b[49m\u001b[43mpat\u001b[49m\u001b[43m,\u001b[49m\u001b[43m \u001b[49m\u001b[43msilent\u001b[49m\u001b[43m)\u001b[49m\n\u001b[1;32m    137\u001b[0m     \u001b[38;5;66;03m# walk the nested dict\u001b[39;00m\n\u001b[1;32m    138\u001b[0m     root, k \u001b[38;5;241m=\u001b[39m _get_root(key)\n",
      "File \u001b[0;32m~/anaconda3/envs/sit_env/lib/python3.8/site-packages/pandas/_config/config.py:121\u001b[0m, in \u001b[0;36m_get_single_key\u001b[0;34m(pat, silent)\u001b[0m\n\u001b[1;32m    119\u001b[0m     \u001b[38;5;28;01mif\u001b[39;00m \u001b[38;5;129;01mnot\u001b[39;00m silent:\n\u001b[1;32m    120\u001b[0m         _warn_if_deprecated(pat)\n\u001b[0;32m--> 121\u001b[0m     \u001b[38;5;28;01mraise\u001b[39;00m OptionError(\u001b[38;5;124mf\u001b[39m\u001b[38;5;124m\"\u001b[39m\u001b[38;5;124mNo such keys(s): \u001b[39m\u001b[38;5;132;01m{\u001b[39;00m\u001b[38;5;28mrepr\u001b[39m(pat)\u001b[38;5;132;01m}\u001b[39;00m\u001b[38;5;124m\"\u001b[39m)\n\u001b[1;32m    122\u001b[0m \u001b[38;5;28;01mif\u001b[39;00m \u001b[38;5;28mlen\u001b[39m(keys) \u001b[38;5;241m>\u001b[39m \u001b[38;5;241m1\u001b[39m:\n\u001b[1;32m    123\u001b[0m     \u001b[38;5;28;01mraise\u001b[39;00m OptionError(\u001b[38;5;124m\"\u001b[39m\u001b[38;5;124mPattern matched multiple keys\u001b[39m\u001b[38;5;124m\"\u001b[39m)\n",
      "\u001b[0;31mOptionError\u001b[0m: \"No such keys(s): 'mode.use_inf_as_null'\""
     ]
    },
    {
     "data": {
      "image/png": "[encoded data removed]",
      "text/plain": [
       "<Figure size 500x500 with 1 Axes>"
      ]
     },
     "metadata": {},
     "output_type": "display_data"
    }
   ],
   "source": [
    "import matplotlib.pyplot as plt\n",
    "import seaborn as sns\n",
    "    \n",
    "ax = sns.displot(bias_probs[:,biased_label_maps['entailment']], kde=True,binwidth=0.010).set(title='Bias Model Distributions')\n",
    "ax.set(xlabel='Probabilities Of Entailment Class', ylabel='Count')\n",
    "plt.show()"
   ]
  },
  {
   "cell_type": "code",
   "execution_count": null,
   "id": "d9ef2e8a",
   "metadata": {},
   "outputs": [],
   "source": [
    "biased_label_maps"
   ]
  },
  {
   "cell_type": "code",
   "execution_count": null,
   "id": "753e85cd",
   "metadata": {},
   "outputs": [],
   "source": [
    "probs = {}\n",
    "\n",
    "for idx, row in advantaged_bias.iterrows():\n",
    "    for label_text in biased_label_maps.keys():\n",
    "        if label_text not in probs.keys(): probs[label_text] = []\n",
    "        probs[label_text].append(row['bias_probs'][biased_label_maps[label_text]])"
   ]
  },
  {
   "cell_type": "code",
   "execution_count": null,
   "id": "f7a83925",
   "metadata": {},
   "outputs": [],
   "source": [
    "for label_text in probs.keys():\n",
    "    print(f'{label_text} : {len(probs[label_text])}')\n",
    "    advantaged_bias[label_text + '_probs'] = probs[label_text]"
   ]
  },
  {
   "cell_type": "code",
   "execution_count": null,
   "id": "83684720",
   "metadata": {},
   "outputs": [],
   "source": [
    "clean_advantaged_bias  = advantaged_bias[advantaged_bias['entailment_probs'] > 0.34]"
   ]
  },
  {
   "cell_type": "code",
   "execution_count": null,
   "id": "8a70c720",
   "metadata": {},
   "outputs": [],
   "source": [
    "(clean_advantaged_bias.shape[0] / advantaged_bias.shape[0]) * 100"
   ]
  },
  {
   "cell_type": "code",
   "execution_count": null,
   "id": "16684d75",
   "metadata": {},
   "outputs": [],
   "source": [
    "advantaged_bias['entailment_probs'].min(), advantaged_bias['entailment_probs'].max()"
   ]
  },
  {
   "cell_type": "code",
   "execution_count": null,
   "id": "c59f6105",
   "metadata": {},
   "outputs": [],
   "source": []
  }
 ],
 "metadata": {
  "kernelspec": {
   "display_name": "Python (sit_env)",
   "language": "python",
   "name": "sit_env"
  },
  "language_info": {
   "codemirror_mode": {
    "name": "ipython",
    "version": 3
   },
   "file_extension": ".py",
   "mimetype": "text/x-python",
   "name": "python",
   "nbconvert_exporter": "python",
   "pygments_lexer": "ipython3",
   "version": "3.8.8"
  }
 },
 "nbformat": 4,
 "nbformat_minor": 5
}
