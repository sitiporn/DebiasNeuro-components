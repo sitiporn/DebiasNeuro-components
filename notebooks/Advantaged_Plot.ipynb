{
 "cells": [
  {
   "cell_type": "code",
   "execution_count": 1,
   "id": "13689b3e",
   "metadata": {},
   "outputs": [],
   "source": [
    "import yaml \n",
    "import pandas as pd\n",
    "import os\n",
    "from collections import Counter\n",
    "import numpy as np\n",
    "import torch\n",
    "import tqdm\n",
    "import pickle\n",
    "from sklearn.metrics import accuracy_score\n",
    "import evaluate"
   ]
  },
  {
   "cell_type": "code",
   "execution_count": 2,
   "id": "82cb0ef6",
   "metadata": {},
   "outputs": [],
   "source": [
    "config_path = \"../configs/pcgu_config.yaml\"\n",
    "with open(config_path, \"r\") as yamlfile:\n",
    "    config = yaml.load(yamlfile, Loader=yaml.FullLoader)"
   ]
  },
  {
   "cell_type": "code",
   "execution_count": 3,
   "id": "37a04a1e",
   "metadata": {},
   "outputs": [],
   "source": [
    "biased_label_maps = {\"entailment\": 0, \"contradiction\": 1, \"neutral\": 2}\n",
    "main_label_maps = {\"contradiction\": 0, \"entailment\": 1, \"neutral\": 2}\n",
    "biased_label_remaps = {v:k for k,v in biased_label_maps.items()}\n",
    "main_label_remaps = {v:k for k,v in main_label_maps.items()}"
   ]
  },
  {
   "cell_type": "code",
   "execution_count": 4,
   "id": "15b46b03",
   "metadata": {},
   "outputs": [],
   "source": [
    "# Consider Entailment class  \n",
    "# if a biased model is correct: \n",
    "#  - a main model is correct -> it's actually entailment samples -> disadvantaged samples\n",
    "#  - a main model is incorrect -> *** advantaged samples\n",
    "# if a biased model is incorrect -> disadvantaged samples "
   ]
  },
  {
   "cell_type": "code",
   "execution_count": 5,
   "id": "574c5cc1",
   "metadata": {},
   "outputs": [
    {
     "name": "stdout",
     "output_type": "stream",
     "text": [
      "(130899, 8)\n",
      "(130899, 6)\n"
     ]
    }
   ],
   "source": [
    "seed = 42\n",
    "path = f'../../pickles/advantaged/{seed}_inferences.pickle'\n",
    "with open(path, 'rb') as handle: \n",
    "    main_df = pickle.load(handle)\n",
    "    biased_df = pickle.load(handle)\n",
    "main_df['results'] = main_df['results'].apply(lambda row: bool(row))\n",
    "entail_main_df = main_df.loc[main_df['gold_label'] == main_label_maps['entailment']]\n",
    "entail_biased_df = biased_df.loc[biased_df['gold_label'] == biased_label_remaps[0]]\n",
    "entail_biased_df.shape == entail_main_df.shape\n",
    "print(entail_biased_df.shape )\n",
    "print(entail_main_df.shape)"
   ]
  },
  {
   "cell_type": "code",
   "execution_count": null,
   "id": "0dd81944",
   "metadata": {},
   "outputs": [],
   "source": []
  },
  {
   "cell_type": "code",
   "execution_count": 6,
   "id": "9d017d00",
   "metadata": {},
   "outputs": [],
   "source": [
    "# if a biased model is correct: \n",
    "#  - a main model is incorrect -> *** advantaged samples"
   ]
  },
  {
   "cell_type": "code",
   "execution_count": 72,
   "id": "757ecf18",
   "metadata": {},
   "outputs": [],
   "source": [
    "# select samples base on main model \n",
    "advantaged  = []\n",
    "for idx in range(entail_main_df.shape[0]):\n",
    "    if entail_main_df['results'].iloc[idx] ==  False and entail_biased_df['results'].iloc[idx] == True:\n",
    "        advantaged.append(True)\n",
    "    else: \n",
    "        advantaged.append(False)"
   ]
  },
  {
   "cell_type": "code",
   "execution_count": 73,
   "id": "1c0a5382",
   "metadata": {},
   "outputs": [
    {
     "data": {
      "text/plain": [
       "True"
      ]
     },
     "execution_count": 73,
     "metadata": {},
     "output_type": "execute_result"
    }
   ],
   "source": [
    "advantaged_main = entail_main_df[advantaged]\n",
    "advantaged_bias = entail_biased_df[advantaged]\n",
    "advantaged_main.shape[0] == advantaged_bias.shape[0]"
   ]
  },
  {
   "cell_type": "code",
   "execution_count": 74,
   "id": "fa5a9bf6",
   "metadata": {},
   "outputs": [
    {
     "data": {
      "text/html": [
       "<div>\n",
       "<style scoped>\n",
       "    .dataframe tbody tr th:only-of-type {\n",
       "        vertical-align: middle;\n",
       "    }\n",
       "\n",
       "    .dataframe tbody tr th {\n",
       "        vertical-align: top;\n",
       "    }\n",
       "\n",
       "    .dataframe thead th {\n",
       "        text-align: right;\n",
       "    }\n",
       "</style>\n",
       "<table border=\"1\" class=\"dataframe\">\n",
       "  <thead>\n",
       "    <tr style=\"text-align: right;\">\n",
       "      <th></th>\n",
       "      <th>gold_label</th>\n",
       "      <th>sentence1</th>\n",
       "      <th>sentence2</th>\n",
       "      <th>probs</th>\n",
       "      <th>predictions</th>\n",
       "      <th>results</th>\n",
       "    </tr>\n",
       "  </thead>\n",
       "  <tbody>\n",
       "    <tr>\n",
       "      <th>140</th>\n",
       "      <td>1</td>\n",
       "      <td>In 2000, GNP was less than GDP because income ...</td>\n",
       "      <td>The US paid more to the rest of the world than...</td>\n",
       "      <td>[tensor(0.6651), tensor(0.2072), tensor(0.1277)]</td>\n",
       "      <td>0</td>\n",
       "      <td>False</td>\n",
       "    </tr>\n",
       "    <tr>\n",
       "      <th>177</th>\n",
       "      <td>1</td>\n",
       "      <td>okay pro football i like two teams one the New...</td>\n",
       "      <td>The New York Giants and Raiders are my favorit...</td>\n",
       "      <td>[tensor(0.0063), tensor(0.4472), tensor(0.5465)]</td>\n",
       "      <td>2</td>\n",
       "      <td>False</td>\n",
       "    </tr>\n",
       "    <tr>\n",
       "      <th>338</th>\n",
       "      <td>1</td>\n",
       "      <td>they use the the injection thing or whatever i...</td>\n",
       "      <td>They use lethal injection.</td>\n",
       "      <td>[tensor(0.0175), tensor(0.1599), tensor(0.8226)]</td>\n",
       "      <td>2</td>\n",
       "      <td>False</td>\n",
       "    </tr>\n",
       "    <tr>\n",
       "      <th>357</th>\n",
       "      <td>1</td>\n",
       "      <td>i think on the local elections it's actually u...</td>\n",
       "      <td>I think more people vote during the presidenti...</td>\n",
       "      <td>[tensor(0.2607), tensor(0.3458), tensor(0.3935)]</td>\n",
       "      <td>2</td>\n",
       "      <td>False</td>\n",
       "    </tr>\n",
       "    <tr>\n",
       "      <th>712</th>\n",
       "      <td>1</td>\n",
       "      <td>Physicians are unlikely to screen if it affect...</td>\n",
       "      <td>Physicians are doctors for children.</td>\n",
       "      <td>[tensor(0.1554), tensor(0.0077), tensor(0.8369)]</td>\n",
       "      <td>2</td>\n",
       "      <td>False</td>\n",
       "    </tr>\n",
       "  </tbody>\n",
       "</table>\n",
       "</div>"
      ],
      "text/plain": [
       "     gold_label                                          sentence1  \\\n",
       "140           1  In 2000, GNP was less than GDP because income ...   \n",
       "177           1  okay pro football i like two teams one the New...   \n",
       "338           1  they use the the injection thing or whatever i...   \n",
       "357           1  i think on the local elections it's actually u...   \n",
       "712           1  Physicians are unlikely to screen if it affect...   \n",
       "\n",
       "                                             sentence2  \\\n",
       "140  The US paid more to the rest of the world than...   \n",
       "177  The New York Giants and Raiders are my favorit...   \n",
       "338                         They use lethal injection.   \n",
       "357  I think more people vote during the presidenti...   \n",
       "712               Physicians are doctors for children.   \n",
       "\n",
       "                                                probs  predictions  results  \n",
       "140  [tensor(0.6651), tensor(0.2072), tensor(0.1277)]            0    False  \n",
       "177  [tensor(0.0063), tensor(0.4472), tensor(0.5465)]            2    False  \n",
       "338  [tensor(0.0175), tensor(0.1599), tensor(0.8226)]            2    False  \n",
       "357  [tensor(0.2607), tensor(0.3458), tensor(0.3935)]            2    False  \n",
       "712  [tensor(0.1554), tensor(0.0077), tensor(0.8369)]            2    False  "
      ]
     },
     "execution_count": 74,
     "metadata": {},
     "output_type": "execute_result"
    }
   ],
   "source": [
    "advantaged_main.head()"
   ]
  },
  {
   "cell_type": "code",
   "execution_count": 75,
   "id": "8cba74ff",
   "metadata": {},
   "outputs": [
    {
     "data": {
      "text/html": [
       "<div>\n",
       "<style scoped>\n",
       "    .dataframe tbody tr th:only-of-type {\n",
       "        vertical-align: middle;\n",
       "    }\n",
       "\n",
       "    .dataframe tbody tr th {\n",
       "        vertical-align: top;\n",
       "    }\n",
       "\n",
       "    .dataframe thead th {\n",
       "        text-align: right;\n",
       "    }\n",
       "</style>\n",
       "<table border=\"1\" class=\"dataframe\">\n",
       "  <thead>\n",
       "    <tr style=\"text-align: right;\">\n",
       "      <th></th>\n",
       "      <th>gold_label</th>\n",
       "      <th>sentence1</th>\n",
       "      <th>sentence2</th>\n",
       "      <th>bias_probs</th>\n",
       "      <th>predictions</th>\n",
       "      <th>results</th>\n",
       "      <th>gold_label_ids</th>\n",
       "      <th>prediction_ids</th>\n",
       "    </tr>\n",
       "  </thead>\n",
       "  <tbody>\n",
       "    <tr>\n",
       "      <th>140</th>\n",
       "      <td>entailment</td>\n",
       "      <td>In 2000, GNP was less than GDP because income ...</td>\n",
       "      <td>The US paid more to the rest of the world than...</td>\n",
       "      <td>[0.5558644133, 0.263421695, 0.18071389170000002]</td>\n",
       "      <td>entailment</td>\n",
       "      <td>True</td>\n",
       "      <td>0</td>\n",
       "      <td>0</td>\n",
       "    </tr>\n",
       "    <tr>\n",
       "      <th>177</th>\n",
       "      <td>entailment</td>\n",
       "      <td>okay pro football i like two teams one the New...</td>\n",
       "      <td>The New York Giants and Raiders are my favorit...</td>\n",
       "      <td>[0.4405454292, 0.31046144140000004, 0.2489931294]</td>\n",
       "      <td>entailment</td>\n",
       "      <td>True</td>\n",
       "      <td>0</td>\n",
       "      <td>0</td>\n",
       "    </tr>\n",
       "    <tr>\n",
       "      <th>338</th>\n",
       "      <td>entailment</td>\n",
       "      <td>they use the the injection thing or whatever i...</td>\n",
       "      <td>They use lethal injection.</td>\n",
       "      <td>[0.3791886834, 0.3314555106, 0.289355806]</td>\n",
       "      <td>entailment</td>\n",
       "      <td>True</td>\n",
       "      <td>0</td>\n",
       "      <td>0</td>\n",
       "    </tr>\n",
       "    <tr>\n",
       "      <th>357</th>\n",
       "      <td>entailment</td>\n",
       "      <td>i think on the local elections it's actually u...</td>\n",
       "      <td>I think more people vote during the presidenti...</td>\n",
       "      <td>[0.5033300255000001, 0.285967647, 0.2107023274]</td>\n",
       "      <td>entailment</td>\n",
       "      <td>True</td>\n",
       "      <td>0</td>\n",
       "      <td>0</td>\n",
       "    </tr>\n",
       "    <tr>\n",
       "      <th>712</th>\n",
       "      <td>entailment</td>\n",
       "      <td>Physicians are unlikely to screen if it affect...</td>\n",
       "      <td>Physicians are doctors for children.</td>\n",
       "      <td>[0.4530503587, 0.30581083400000003, 0.2411388073]</td>\n",
       "      <td>entailment</td>\n",
       "      <td>True</td>\n",
       "      <td>0</td>\n",
       "      <td>0</td>\n",
       "    </tr>\n",
       "  </tbody>\n",
       "</table>\n",
       "</div>"
      ],
      "text/plain": [
       "     gold_label                                          sentence1  \\\n",
       "140  entailment  In 2000, GNP was less than GDP because income ...   \n",
       "177  entailment  okay pro football i like two teams one the New...   \n",
       "338  entailment  they use the the injection thing or whatever i...   \n",
       "357  entailment  i think on the local elections it's actually u...   \n",
       "712  entailment  Physicians are unlikely to screen if it affect...   \n",
       "\n",
       "                                             sentence2  \\\n",
       "140  The US paid more to the rest of the world than...   \n",
       "177  The New York Giants and Raiders are my favorit...   \n",
       "338                         They use lethal injection.   \n",
       "357  I think more people vote during the presidenti...   \n",
       "712               Physicians are doctors for children.   \n",
       "\n",
       "                                            bias_probs predictions  results  \\\n",
       "140   [0.5558644133, 0.263421695, 0.18071389170000002]  entailment     True   \n",
       "177  [0.4405454292, 0.31046144140000004, 0.2489931294]  entailment     True   \n",
       "338          [0.3791886834, 0.3314555106, 0.289355806]  entailment     True   \n",
       "357    [0.5033300255000001, 0.285967647, 0.2107023274]  entailment     True   \n",
       "712  [0.4530503587, 0.30581083400000003, 0.2411388073]  entailment     True   \n",
       "\n",
       "     gold_label_ids  prediction_ids  \n",
       "140               0               0  \n",
       "177               0               0  \n",
       "338               0               0  \n",
       "357               0               0  \n",
       "712               0               0  "
      ]
     },
     "execution_count": 75,
     "metadata": {},
     "output_type": "execute_result"
    }
   ],
   "source": [
    "advantaged_bias.head()"
   ]
  },
  {
   "cell_type": "code",
   "execution_count": 76,
   "id": "f08dd2c0",
   "metadata": {},
   "outputs": [],
   "source": [
    "bias_probs = []\n",
    "for row_idx, row  in advantaged_bias.iterrows():\n",
    "    bias_probs.append(row['bias_probs'])\n",
    "bias_probs = torch.tensor(bias_probs)"
   ]
  },
  {
   "cell_type": "code",
   "execution_count": 77,
   "id": "6c81ae9f",
   "metadata": {},
   "outputs": [
    {
     "data": {
      "text/plain": [
       "dict_keys(['entailment', 'contradiction', 'neutral'])"
      ]
     },
     "execution_count": 77,
     "metadata": {},
     "output_type": "execute_result"
    }
   ],
   "source": [
    "biased_label_maps.keys()"
   ]
  },
  {
   "cell_type": "code",
   "execution_count": 78,
   "id": "9c950ec1",
   "metadata": {},
   "outputs": [
    {
     "data": {
      "image/png": "[encoded data removed]",
      "text/plain": [
       "<Figure size 500x500 with 1 Axes>"
      ]
     },
     "metadata": {},
     "output_type": "display_data"
    }
   ],
   "source": [
    "import matplotlib.pyplot as plt\n",
    "import seaborn as sns\n",
    "    \n",
    "ax = sns.displot(bias_probs[:,biased_label_maps['entailment']], kde=True,binwidth=0.010).set(title='Probabilities of An Entailment Class')\n",
    "ax.set(xlabel='Probabilities', ylabel='Count')\n",
    "plt.show()"
   ]
  },
  {
   "cell_type": "code",
   "execution_count": 79,
   "id": "97fe9762",
   "metadata": {},
   "outputs": [
    {
     "data": {
      "text/plain": [
       "{'entailment': 0, 'contradiction': 1, 'neutral': 2}"
      ]
     },
     "execution_count": 79,
     "metadata": {},
     "output_type": "execute_result"
    }
   ],
   "source": [
    "biased_label_maps"
   ]
  },
  {
   "cell_type": "code",
   "execution_count": 80,
   "id": "ed7241e1",
   "metadata": {},
   "outputs": [],
   "source": [
    "probs = {}\n",
    "\n",
    "for idx, row in advantaged_bias.iterrows():\n",
    "    for label_text in biased_label_maps.keys():\n",
    "        if label_text not in probs.keys(): probs[label_text] = []\n",
    "        probs[label_text].append(row['bias_probs'][biased_label_maps[label_text]])"
   ]
  },
  {
   "cell_type": "code",
   "execution_count": 81,
   "id": "91864d37",
   "metadata": {},
   "outputs": [
    {
     "name": "stdout",
     "output_type": "stream",
     "text": [
      "entailment : 1754\n",
      "contradiction : 1754\n",
      "neutral : 1754\n"
     ]
    },
    {
     "name": "stderr",
     "output_type": "stream",
     "text": [
      "/tmp/ipykernel_265473/779887114.py:3: SettingWithCopyWarning: \n",
      "A value is trying to be set on a copy of a slice from a DataFrame.\n",
      "Try using .loc[row_indexer,col_indexer] = value instead\n",
      "\n",
      "See the caveats in the documentation: https://pandas.pydata.org/pandas-docs/stable/user_guide/indexing.html#returning-a-view-versus-a-copy\n",
      "  advantaged_bias[label_text + '_probs'] = probs[label_text]\n",
      "/tmp/ipykernel_265473/779887114.py:3: SettingWithCopyWarning: \n",
      "A value is trying to be set on a copy of a slice from a DataFrame.\n",
      "Try using .loc[row_indexer,col_indexer] = value instead\n",
      "\n",
      "See the caveats in the documentation: https://pandas.pydata.org/pandas-docs/stable/user_guide/indexing.html#returning-a-view-versus-a-copy\n",
      "  advantaged_bias[label_text + '_probs'] = probs[label_text]\n",
      "/tmp/ipykernel_265473/779887114.py:3: SettingWithCopyWarning: \n",
      "A value is trying to be set on a copy of a slice from a DataFrame.\n",
      "Try using .loc[row_indexer,col_indexer] = value instead\n",
      "\n",
      "See the caveats in the documentation: https://pandas.pydata.org/pandas-docs/stable/user_guide/indexing.html#returning-a-view-versus-a-copy\n",
      "  advantaged_bias[label_text + '_probs'] = probs[label_text]\n"
     ]
    }
   ],
   "source": [
    "for label_text in probs.keys():\n",
    "    print(f'{label_text} : {len(probs[label_text])}')\n",
    "    advantaged_bias[label_text + '_probs'] = probs[label_text]"
   ]
  },
  {
   "cell_type": "code",
   "execution_count": 98,
   "id": "ab7055e1",
   "metadata": {},
   "outputs": [],
   "source": [
    "clean_advantaged_bias  = advantaged_bias[advantaged_bias['entailment_probs'] > 0.34]"
   ]
  },
  {
   "cell_type": "code",
   "execution_count": 99,
   "id": "e252cf53",
   "metadata": {},
   "outputs": [
    {
     "data": {
      "text/plain": [
       "100.0"
      ]
     },
     "execution_count": 99,
     "metadata": {},
     "output_type": "execute_result"
    }
   ],
   "source": [
    "(clean_advantaged_bias.shape[0] / advantaged_bias.shape[0]) * 100"
   ]
  },
  {
   "cell_type": "code",
   "execution_count": 102,
   "id": "52cd8f37",
   "metadata": {},
   "outputs": [
    {
     "data": {
      "text/plain": [
       "(0.3438287613, 0.7320638385)"
      ]
     },
     "execution_count": 102,
     "metadata": {},
     "output_type": "execute_result"
    }
   ],
   "source": [
    "advantaged_bias['entailment_probs'].min(), advantaged_bias['entailment_probs'].max()"
   ]
  },
  {
   "cell_type": "code",
   "execution_count": null,
   "id": "825184e4",
   "metadata": {},
   "outputs": [],
   "source": []
  }
 ],
 "metadata": {
  "kernelspec": {
   "display_name": "Python (sit_env)",
   "language": "python",
   "name": "sit_env"
  },
  "language_info": {
   "codemirror_mode": {
    "name": "ipython",
    "version": 3
   },
   "file_extension": ".py",
   "mimetype": "text/x-python",
   "name": "python",
   "nbconvert_exporter": "python",
   "pygments_lexer": "ipython3",
   "version": "3.8.8"
  }
 },
 "nbformat": 4,
 "nbformat_minor": 5
}
