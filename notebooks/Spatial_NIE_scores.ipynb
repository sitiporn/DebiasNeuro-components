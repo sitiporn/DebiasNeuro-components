{
 "cells": [
  {
   "cell_type": "code",
   "execution_count": 1,
   "id": "648868a7",
   "metadata": {},
   "outputs": [],
   "source": [
    "import yaml, os\n",
    "import sys   \n",
    "sys.path.append(os.path.abspath('/ist-project/scads/sit/DebiasNeuro-components/'))\n"
   ]
  },
  {
   "cell_type": "code",
   "execution_count": 2,
   "id": "18594521",
   "metadata": {},
   "outputs": [],
   "source": [
    "from data import get_all_model_paths\n",
    "from cma_utils import collect_counterfactuals, trace_counterfactual, geting_counterfactual_paths, get_single_representation, geting_NIE_paths, Classifier, test_mask\n",
    "from cma import scaling_nie_scores, get_topk\n",
    "import tqdm\n",
    "import pickle\n",
    "import operator\n",
    "from sklearn.preprocessing import MinMaxScaler, Normalizer"
   ]
  },
  {
   "cell_type": "code",
   "execution_count": 3,
   "id": "cc531e2b",
   "metadata": {},
   "outputs": [
    {
     "name": "stdout",
     "output_type": "stream",
     "text": [
      "config: ../configs/pcgu_config.yaml\n"
     ]
    }
   ],
   "source": [
    "config_path = \"../configs/pcgu_config.yaml\"\n",
    "# config_path = \"./configs/experiment_config.yaml\"\n",
    "with open(config_path, \"r\") as yamlfile:\n",
    "    config = yaml.load(yamlfile, Loader=yaml.FullLoader)\n",
    "    print(f'config: {config_path}')"
   ]
  },
  {
   "cell_type": "code",
   "execution_count": null,
   "id": "f03c70f1",
   "metadata": {},
   "outputs": [],
   "source": []
  },
  {
   "cell_type": "code",
   "execution_count": 4,
   "id": "c8475b29",
   "metadata": {},
   "outputs": [],
   "source": [
    "def geting_NIE_paths(config, method_name, mode, seed=None):\n",
    "    NIE_paths = []\n",
    "    is_NIE_exist = []\n",
    "    path = f'../../NIE/{method_name}/'\n",
    "    path = os.path.join(path, \"seed_\"+ str(config['seed'] if seed is None else seed ) )\n",
    "    if not os.path.exists(path): os.mkdir(path) \n",
    "    layers = config['layers']  if config['computed_all_layers'] else [config['layer']]\n",
    "    \n",
    "    if config['is_averaged_embeddings']:\n",
    "        if config['computed_all_layers']: \n",
    "            NIE_path = os.path.join(path, f'avg_embeddings_{mode[0]}_computed_all_layers_.pickle') \n",
    "            NIE_paths.append(NIE_path)\n",
    "            is_NIE_exist.append(os.path.isfile(NIE_path))\n",
    "        else:\n",
    "            for layer in layers:\n",
    "                # if not isinstance(layer, list): cur_layer = [layer]\n",
    "                NIE_path = os.path.join(path, f'avg_embeddings_{mode[0]}_layer_{layer}_.pickle') \n",
    "                NIE_paths.append(NIE_path)\n",
    "                is_NIE_exist.append(os.path.isfile(NIE_path))\n",
    "    else:\n",
    "        for cur_path in config['counterfactual_paths']:\n",
    "            # extract infor from current path \n",
    "            component = sorted(cur_path.split(\"_\"), key=len)[0]  \n",
    "            class_name = None\n",
    "            # NIE_path = os.path.join(path, f'avg_high_level_{layer}_{mode[0]}.pickle') \n",
    "            NIE_path = os.path.join(path, f'avg_embeddings_{mode[0]}_layer_{layer}_.pickle') \n",
    "            print(f\"current path: {NIE_path} , is_exist : {os.path.isfile(cur_path)}\")\n",
    "            NIE_paths.append(NIE_path)\n",
    "            is_NIE_exist.append(os.path.isfile(cur_path))\n",
    "    return NIE_paths, is_NIE_exist"
   ]
  },
  {
   "cell_type": "code",
   "execution_count": 5,
   "id": "df007108",
   "metadata": {},
   "outputs": [],
   "source": [
    "LOAD_MODEL_PATH = '../../models/debug_baseline/' \n",
    "method_name =  'recent_baseline' \n",
    "mode = [\"High-overlap\"]  if config['treatment'] else  [\"Low-overlap\"] \n",
    "seed = config['seed']\n",
    "\n",
    "NIE_paths = []\n",
    "if os.path.exists(LOAD_MODEL_PATH): all_model_paths = get_all_model_paths(LOAD_MODEL_PATH)\n",
    "\n",
    "NIE_paths, _ = geting_NIE_paths(config, method_name, mode, seed=seed)"
   ]
  },
  {
   "cell_type": "code",
   "execution_count": 6,
   "id": "053fa34c",
   "metadata": {},
   "outputs": [
    {
     "data": {
      "text/plain": [
       "['../../NIE/recent_baseline/seed_3990/avg_embeddings_High-overlap_computed_all_layers_.pickle']"
      ]
     },
     "execution_count": 6,
     "metadata": {},
     "output_type": "execute_result"
    }
   ],
   "source": [
    "NIE_paths "
   ]
  },
  {
   "cell_type": "code",
   "execution_count": 7,
   "id": "967b76a2",
   "metadata": {},
   "outputs": [
    {
     "name": "stdout",
     "output_type": "stream",
     "text": [
      "loading NIE : ../../NIE/recent_baseline/seed_3990/avg_embeddings_High-overlap_computed_all_layers_.pickle\n",
      "++++++++ Component-Neuron_id: 0.05 neurons :+++++++++\n"
     ]
    }
   ],
   "source": [
    "# select candidates  based on percentage\n",
    "k = config['k']\n",
    "# select candidates based on the number of neurons\n",
    "num_top_neurons = config['num_top_neurons']\n",
    "top_neurons = {}\n",
    "num_neurons = None\n",
    "topk = get_topk(config, k=k, num_top_neurons=num_neurons)\n",
    "key = list(topk.keys())[0]\n",
    "# rank for NIE\n",
    "layers = config['layers'] if config['computed_all_layers'] else config['layer']\n",
    "# compute average NIE\n",
    "# ranking_nie = {} if config['compute_all_seeds'] else None\n",
    "import pandas as pd\n",
    "scores = {\"Neuron_ids\": None, \"NIE_scores\": None }\n",
    "\n",
    "for cur_path in NIE_paths:\n",
    "    ranking_nie = {}\n",
    "    with open(cur_path, 'rb') as handle:\n",
    "        NIE = pickle.load(handle)\n",
    "        counter = pickle.load(handle)\n",
    "        print(f\"loading NIE : {cur_path}\")\n",
    "\n",
    "    seed = cur_path.split('/')[4].split('_')[-1]\n",
    "    do = cur_path.split('/')[-1].split('_')[2]\n",
    "    for layer in layers:\n",
    "        for component in NIE[do].keys():\n",
    "            for neuron_id in NIE[do][component][layer].keys():\n",
    "                NIE[do][component][layer][neuron_id] = NIE[do][component][layer][neuron_id] / counter[do][component][layer][neuron_id]\n",
    "                ranking_nie[(f\"L-{layer}-\" if config['computed_all_layers'] else \"\") + component + \"-\" + str(neuron_id)] = NIE[do][component][layer][neuron_id].to('cpu')\n",
    "\n",
    "    # sort whole layers\n",
    "    if config['computed_all_layers']:\n",
    "        all_neurons = dict(sorted(ranking_nie.items(), key=operator.itemgetter(1), reverse=True))\n",
    "        if not isinstance(topk[key], list): topk[key] = [topk[key]]\n",
    "        for value in topk[key]:\n",
    "            num_neurons =  len(list(all_neurons.keys())) * value if key == 'percent' else value\n",
    "            num_neurons = int(num_neurons)\n",
    "            print(f\"++++++++ Component-Neuron_id: {round(value, 2) if key == 'percent' else num_neurons} neurons :+++++++++\")\n",
    "            cur_neurons = sorted(ranking_nie.items(), key=operator.itemgetter(1), reverse=True)\n",
    "            cur_neurons = dict(cur_neurons)\n",
    "            scores[\"Neuron_ids\"] = list(cur_neurons.keys())\n",
    "            scores[\"NIE_scores\"] = list(cur_neurons.values())\n",
    "            df = pd.DataFrame(scores)\n",
    " "
   ]
  },
  {
   "cell_type": "code",
   "execution_count": 8,
   "id": "4c8c46e3",
   "metadata": {},
   "outputs": [],
   "source": [
    "df['NIE_scores'] = df['NIE_scores'].apply(lambda row :  float(row))"
   ]
  },
  {
   "cell_type": "code",
   "execution_count": 9,
   "id": "b720c2ae",
   "metadata": {},
   "outputs": [
    {
     "data": {
      "text/html": [
       "<div>\n",
       "<style scoped>\n",
       "    .dataframe tbody tr th:only-of-type {\n",
       "        vertical-align: middle;\n",
       "    }\n",
       "\n",
       "    .dataframe tbody tr th {\n",
       "        vertical-align: top;\n",
       "    }\n",
       "\n",
       "    .dataframe thead th {\n",
       "        text-align: right;\n",
       "    }\n",
       "</style>\n",
       "<table border=\"1\" class=\"dataframe\">\n",
       "  <thead>\n",
       "    <tr style=\"text-align: right;\">\n",
       "      <th></th>\n",
       "      <th>Neuron_ids</th>\n",
       "      <th>NIE_scores</th>\n",
       "    </tr>\n",
       "  </thead>\n",
       "  <tbody>\n",
       "    <tr>\n",
       "      <th>0</th>\n",
       "      <td>L-11-I-877</td>\n",
       "      <td>0.325554</td>\n",
       "    </tr>\n",
       "    <tr>\n",
       "      <th>1</th>\n",
       "      <td>L-2-AO-308</td>\n",
       "      <td>0.166183</td>\n",
       "    </tr>\n",
       "    <tr>\n",
       "      <th>2</th>\n",
       "      <td>L-3-I-906</td>\n",
       "      <td>0.062301</td>\n",
       "    </tr>\n",
       "    <tr>\n",
       "      <th>3</th>\n",
       "      <td>L-11-Q-128</td>\n",
       "      <td>0.060278</td>\n",
       "    </tr>\n",
       "    <tr>\n",
       "      <th>4</th>\n",
       "      <td>L-4-I-384</td>\n",
       "      <td>0.051122</td>\n",
       "    </tr>\n",
       "  </tbody>\n",
       "</table>\n",
       "</div>"
      ],
      "text/plain": [
       "   Neuron_ids  NIE_scores\n",
       "0  L-11-I-877    0.325554\n",
       "1  L-2-AO-308    0.166183\n",
       "2   L-3-I-906    0.062301\n",
       "3  L-11-Q-128    0.060278\n",
       "4   L-4-I-384    0.051122"
      ]
     },
     "execution_count": 9,
     "metadata": {},
     "output_type": "execute_result"
    }
   ],
   "source": [
    "df.head()"
   ]
  },
  {
   "cell_type": "raw",
   "id": "4bf78d3e",
   "metadata": {},
   "source": [
    "topk_df = df.iloc[:num_neurons]"
   ]
  },
  {
   "cell_type": "code",
   "execution_count": 13,
   "id": "9c591b47",
   "metadata": {},
   "outputs": [],
   "source": [
    "nie_scores = df['NIE_scores'].to_numpy()\n",
    "scaler = MinMaxScaler()\n",
    "scaler.fit(df['NIE_scores'].to_numpy().reshape(-1, 1))\n",
    "df['NIE*'] = scaler.transform(df['NIE_scores'].to_numpy().reshape(-1, 1))\n",
    "transformer = Normalizer().fit(df['NIE_scores'].to_numpy().reshape(-1, 1))\n",
    "df['NIE**'] = transformer.transform(df['NIE_scores'].to_numpy().reshape(-1, 1))"
   ]
  },
  {
   "cell_type": "code",
   "execution_count": 18,
   "id": "991ea8f9",
   "metadata": {},
   "outputs": [
    {
     "data": {
      "text/html": [
       "<div>\n",
       "<style scoped>\n",
       "    .dataframe tbody tr th:only-of-type {\n",
       "        vertical-align: middle;\n",
       "    }\n",
       "\n",
       "    .dataframe tbody tr th {\n",
       "        vertical-align: top;\n",
       "    }\n",
       "\n",
       "    .dataframe thead th {\n",
       "        text-align: right;\n",
       "    }\n",
       "</style>\n",
       "<table border=\"1\" class=\"dataframe\">\n",
       "  <thead>\n",
       "    <tr style=\"text-align: right;\">\n",
       "      <th></th>\n",
       "      <th>Neuron_ids</th>\n",
       "      <th>NIE_scores</th>\n",
       "      <th>NIE*</th>\n",
       "      <th>NIE**</th>\n",
       "    </tr>\n",
       "  </thead>\n",
       "  <tbody>\n",
       "    <tr>\n",
       "      <th>0</th>\n",
       "      <td>L-11-I-877</td>\n",
       "      <td>0.325554</td>\n",
       "      <td>1.000000</td>\n",
       "      <td>1.0</td>\n",
       "    </tr>\n",
       "    <tr>\n",
       "      <th>1</th>\n",
       "      <td>L-2-AO-308</td>\n",
       "      <td>0.166183</td>\n",
       "      <td>0.710837</td>\n",
       "      <td>1.0</td>\n",
       "    </tr>\n",
       "    <tr>\n",
       "      <th>2</th>\n",
       "      <td>L-3-I-906</td>\n",
       "      <td>0.062301</td>\n",
       "      <td>0.522354</td>\n",
       "      <td>1.0</td>\n",
       "    </tr>\n",
       "    <tr>\n",
       "      <th>3</th>\n",
       "      <td>L-11-Q-128</td>\n",
       "      <td>0.060278</td>\n",
       "      <td>0.518683</td>\n",
       "      <td>1.0</td>\n",
       "    </tr>\n",
       "    <tr>\n",
       "      <th>4</th>\n",
       "      <td>L-4-I-384</td>\n",
       "      <td>0.051122</td>\n",
       "      <td>0.502070</td>\n",
       "      <td>1.0</td>\n",
       "    </tr>\n",
       "  </tbody>\n",
       "</table>\n",
       "</div>"
      ],
      "text/plain": [
       "   Neuron_ids  NIE_scores      NIE*  NIE**\n",
       "0  L-11-I-877    0.325554  1.000000    1.0\n",
       "1  L-2-AO-308    0.166183  0.710837    1.0\n",
       "2   L-3-I-906    0.062301  0.522354    1.0\n",
       "3  L-11-Q-128    0.060278  0.518683    1.0\n",
       "4   L-4-I-384    0.051122  0.502070    1.0"
      ]
     },
     "execution_count": 18,
     "metadata": {},
     "output_type": "execute_result"
    }
   ],
   "source": [
    "df.head()"
   ]
  },
  {
   "cell_type": "code",
   "execution_count": 24,
   "id": "1cd02d9e",
   "metadata": {},
   "outputs": [
    {
     "data": {
      "text/plain": [
       "(count    82944.000000\n",
       " mean         0.409426\n",
       " std          0.004432\n",
       " min          0.000000\n",
       " 25%          0.409248\n",
       " 50%          0.409317\n",
       " 75%          0.409434\n",
       " max          1.000000\n",
       " Name: NIE*, dtype: float64,\n",
       " count    4147.000000\n",
       " mean        0.413430\n",
       " std         0.011861\n",
       " min         0.410430\n",
       " 25%         0.410797\n",
       " 50%         0.411416\n",
       " 75%         0.413047\n",
       " max         1.000000\n",
       " Name: NIE*, dtype: float64)"
      ]
     },
     "execution_count": 24,
     "metadata": {},
     "output_type": "execute_result"
    }
   ],
   "source": [
    "df['NIE*'].describe(), df['NIE*'].iloc[:num_neurons].describe()"
   ]
  },
  {
   "cell_type": "code",
   "execution_count": 25,
   "id": "236f8fe8",
   "metadata": {},
   "outputs": [
    {
     "data": {
      "text/plain": [
       "(count    82944.000000\n",
       " mean         0.064079\n",
       " std          0.997860\n",
       " min         -1.000000\n",
       " 25%         -1.000000\n",
       " 50%          1.000000\n",
       " 75%          1.000000\n",
       " max          1.000000\n",
       " Name: NIE**, dtype: float64,\n",
       " count    4147.0\n",
       " mean        1.0\n",
       " std         0.0\n",
       " min         1.0\n",
       " 25%         1.0\n",
       " 50%         1.0\n",
       " 75%         1.0\n",
       " max         1.0\n",
       " Name: NIE**, dtype: float64)"
      ]
     },
     "execution_count": 25,
     "metadata": {},
     "output_type": "execute_result"
    }
   ],
   "source": [
    "df['NIE**'].describe(), df['NIE**'].iloc[:num_neurons].describe()"
   ]
  },
  {
   "cell_type": "code",
   "execution_count": 28,
   "id": "62e95884",
   "metadata": {},
   "outputs": [],
   "source": [
    "df['m*'] = df['NIE*'].apply(lambda row : 1-row)\n",
    "df['m**'] = df['NIE**'].apply(lambda row : 1-row)"
   ]
  },
  {
   "cell_type": "code",
   "execution_count": 29,
   "id": "e91e78ba",
   "metadata": {},
   "outputs": [
    {
     "data": {
      "text/html": [
       "<div>\n",
       "<style scoped>\n",
       "    .dataframe tbody tr th:only-of-type {\n",
       "        vertical-align: middle;\n",
       "    }\n",
       "\n",
       "    .dataframe tbody tr th {\n",
       "        vertical-align: top;\n",
       "    }\n",
       "\n",
       "    .dataframe thead th {\n",
       "        text-align: right;\n",
       "    }\n",
       "</style>\n",
       "<table border=\"1\" class=\"dataframe\">\n",
       "  <thead>\n",
       "    <tr style=\"text-align: right;\">\n",
       "      <th></th>\n",
       "      <th>Neuron_ids</th>\n",
       "      <th>NIE_scores</th>\n",
       "      <th>NIE*</th>\n",
       "      <th>NIE**</th>\n",
       "      <th>m*</th>\n",
       "      <th>m**</th>\n",
       "    </tr>\n",
       "  </thead>\n",
       "  <tbody>\n",
       "    <tr>\n",
       "      <th>0</th>\n",
       "      <td>L-11-I-877</td>\n",
       "      <td>0.325554</td>\n",
       "      <td>1.000000</td>\n",
       "      <td>1.0</td>\n",
       "      <td>0.000000</td>\n",
       "      <td>0.0</td>\n",
       "    </tr>\n",
       "    <tr>\n",
       "      <th>1</th>\n",
       "      <td>L-2-AO-308</td>\n",
       "      <td>0.166183</td>\n",
       "      <td>0.710837</td>\n",
       "      <td>1.0</td>\n",
       "      <td>0.289163</td>\n",
       "      <td>0.0</td>\n",
       "    </tr>\n",
       "    <tr>\n",
       "      <th>2</th>\n",
       "      <td>L-3-I-906</td>\n",
       "      <td>0.062301</td>\n",
       "      <td>0.522354</td>\n",
       "      <td>1.0</td>\n",
       "      <td>0.477646</td>\n",
       "      <td>0.0</td>\n",
       "    </tr>\n",
       "    <tr>\n",
       "      <th>3</th>\n",
       "      <td>L-11-Q-128</td>\n",
       "      <td>0.060278</td>\n",
       "      <td>0.518683</td>\n",
       "      <td>1.0</td>\n",
       "      <td>0.481317</td>\n",
       "      <td>0.0</td>\n",
       "    </tr>\n",
       "    <tr>\n",
       "      <th>4</th>\n",
       "      <td>L-4-I-384</td>\n",
       "      <td>0.051122</td>\n",
       "      <td>0.502070</td>\n",
       "      <td>1.0</td>\n",
       "      <td>0.497930</td>\n",
       "      <td>0.0</td>\n",
       "    </tr>\n",
       "  </tbody>\n",
       "</table>\n",
       "</div>"
      ],
      "text/plain": [
       "   Neuron_ids  NIE_scores      NIE*  NIE**        m*  m**\n",
       "0  L-11-I-877    0.325554  1.000000    1.0  0.000000  0.0\n",
       "1  L-2-AO-308    0.166183  0.710837    1.0  0.289163  0.0\n",
       "2   L-3-I-906    0.062301  0.522354    1.0  0.477646  0.0\n",
       "3  L-11-Q-128    0.060278  0.518683    1.0  0.481317  0.0\n",
       "4   L-4-I-384    0.051122  0.502070    1.0  0.497930  0.0"
      ]
     },
     "execution_count": 29,
     "metadata": {},
     "output_type": "execute_result"
    }
   ],
   "source": [
    "df.head()"
   ]
  },
  {
   "cell_type": "code",
   "execution_count": 30,
   "id": "ab8b1594",
   "metadata": {},
   "outputs": [
    {
     "data": {
      "text/plain": [
       "<AxesSubplot: ylabel='Density'>"
      ]
     },
     "execution_count": 30,
     "metadata": {},
     "output_type": "execute_result"
    },
    {
     "data": {
      "image/png": "[encoded data removed]",
      "text/plain": [
       "<Figure size 640x480 with 1 Axes>"
      ]
     },
     "metadata": {},
     "output_type": "display_data"
    }
   ],
   "source": [
    "df['m*'].plot.kde()"
   ]
  },
  {
   "cell_type": "code",
   "execution_count": null,
   "id": "1c168c32",
   "metadata": {},
   "outputs": [],
   "source": [
    "# topk_df['NIE_scores'] = nie_scores\n",
    "topk_df['NIE_scores'].plot.kde(), topk_df['NIE_scores'].describe()"
   ]
  },
  {
   "cell_type": "code",
   "execution_count": null,
   "id": "0738b7ae",
   "metadata": {},
   "outputs": [],
   "source": []
  }
 ],
 "metadata": {
  "kernelspec": {
   "display_name": "Python (sit_env)",
   "language": "python",
   "name": "sit_env"
  },
  "language_info": {
   "codemirror_mode": {
    "name": "ipython",
    "version": 3
   },
   "file_extension": ".py",
   "mimetype": "text/x-python",
   "name": "python",
   "nbconvert_exporter": "python",
   "pygments_lexer": "ipython3",
   "version": "3.8.8"
  }
 },
 "nbformat": 4,
 "nbformat_minor": 5
}
