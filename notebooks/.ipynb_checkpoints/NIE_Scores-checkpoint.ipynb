{
 "cells": [
  {
   "cell_type": "code",
   "execution_count": null,
   "id": "1e530c10",
   "metadata": {},
   "outputs": [],
   "source": [
    "%matplotlib inline\n",
    "import matplotlib.pyplot as plt\n",
    "plt.style.use('seaborn-whitegrid')\n",
    "import torch\n",
    "import pickle\n",
    "import numpy as np\n",
    "from collections import Counter\n",
    "import glob\n",
    "import collections\n",
    "# read top neurons\n",
    "import yaml \n",
    "import sys  \n",
    "sys.path.append('../')\n",
    "from cma import get_topk\n",
    "import os\n",
    "# from data import get_all_model_paths"
   ]
  },
  {
   "cell_type": "code",
   "execution_count": null,
   "id": "7da0654a",
   "metadata": {},
   "outputs": [],
   "source": [
    "ls ../"
   ]
  },
  {
   "cell_type": "code",
   "execution_count": null,
   "id": "0b343026",
   "metadata": {},
   "outputs": [],
   "source": [
    "\n",
    "\n",
    "LOAD_MODEL_PATH = '../models/recent_baseline/'\n",
    "NIE_paths = []\n",
    "if os.path.exists(LOAD_MODEL_PATH): all_model_paths = get_all_model_paths(LOAD_MODEL_PATH)\n",
    "with open(\"../experiment_config.yaml\", \"r\") as yamlfile:\n",
    "    config = yaml.load(yamlfile, Loader=yaml.FullLoader)"
   ]
  },
  {
   "cell_type": "code",
   "execution_count": null,
   "id": "35c3aedb",
   "metadata": {},
   "outputs": [],
   "source": []
  },
  {
   "cell_type": "code",
   "execution_count": null,
   "id": "d0f4ff0b",
   "metadata": {},
   "outputs": [],
   "source": [
    "k = config['k']\n",
    "# select candidates based on the number of neurons\n",
    "num_top_neurons = config['num_top_neurons']\n",
    "topk = get_topk(config, k, num_top_neurons)\n",
    "key = list(topk.keys())[0]\n",
    "if not isinstance(topk[key], list): topk[key] = [topk[key]]\n",
    "layers = config['layers'] if config['computed_all_layers'] else config['layer']\n",
    "mode = [\"High-overlap\"]  if config['treatment'] else  [\"Low-overlap\"] \n",
    "top_neurons = {}\n",
    "\n",
    "if config['computed_all_layers']:\n",
    "    for do in [\"High-overlap\", \"Low-overlap\"]:\n",
    "        for value in topk[key]:            \n",
    "            with open(f'../../pickles/top_neurons/top_neuron_{key}_{do}_all_layers.pickle', 'rb') as handle:\n",
    "                top_neurons[f\"{key}-{do}\"] = pickle.load(handle)     \n",
    "else:\n",
    "    pass"
   ]
  },
  {
   "cell_type": "code",
   "execution_count": null,
   "id": "03ab575c",
   "metadata": {},
   "outputs": [],
   "source": [
    "top_neurons"
   ]
  },
  {
   "cell_type": "code",
   "execution_count": null,
   "id": "b7970547",
   "metadata": {},
   "outputs": [],
   "source": [
    "L-0-Q-0"
   ]
  }
 ],
 "metadata": {
  "kernelspec": {
   "display_name": "Python (sit_env)",
   "language": "python",
   "name": "sit_env"
  },
  "language_info": {
   "codemirror_mode": {
    "name": "ipython",
    "version": 3
   },
   "file_extension": ".py",
   "mimetype": "text/x-python",
   "name": "python",
   "nbconvert_exporter": "python",
   "pygments_lexer": "ipython3",
   "version": "3.8.8"
  }
 },
 "nbformat": 4,
 "nbformat_minor": 5
}
