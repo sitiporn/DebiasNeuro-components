{
 "cells": [
  {
   "cell_type": "code",
   "execution_count": 21,
   "metadata": {},
   "outputs": [],
   "source": [
    "import pickle\n",
    "import seaborn as sns\n",
    "import pandas as pd\n",
    "\n",
    "\n",
    "do = 'High-overlap'\n",
    "layer = 1\n",
    "debug = False\n",
    "\n",
    "evaluation_path = f'../pickles/evaluations/topk_{do}_L{layer}.pickle'\n",
    " \n",
    "\n",
    "with open(evaluation_path, 'rb') as handle: \n",
    "  evaluations = pickle.load(handle)\n",
    "  "
   ]
  },
  {
   "cell_type": "code",
   "execution_count": 22,
   "metadata": {},
   "outputs": [
    {
     "data": {
      "text/plain": [
       "{0.01: {'entailed': {'lexical_overlap': 0.9926,\n",
       "   'subsequence': 0.9968,\n",
       "   'constituent': 0.9884},\n",
       "  'non-entailed': {'lexical_overlap': 0.1628,\n",
       "   'subsequence': 0.0422,\n",
       "   'constituent': 0.1302}},\n",
       " 0.02: {'entailed': {'lexical_overlap': 0.9842,\n",
       "   'subsequence': 0.9918,\n",
       "   'constituent': 0.9848},\n",
       "  'non-entailed': {'lexical_overlap': 0.1686,\n",
       "   'subsequence': 0.0526,\n",
       "   'constituent': 0.1282}},\n",
       " 0.03: {'entailed': {'lexical_overlap': 0.981,\n",
       "   'subsequence': 0.991,\n",
       "   'constituent': 0.9886},\n",
       "  'non-entailed': {'lexical_overlap': 0.1814,\n",
       "   'subsequence': 0.0498,\n",
       "   'constituent': 0.1338}},\n",
       " 0.04: {'entailed': {'lexical_overlap': 0.984,\n",
       "   'subsequence': 0.9988,\n",
       "   'constituent': 0.9958},\n",
       "  'non-entailed': {'lexical_overlap': 0.206,\n",
       "   'subsequence': 0.0412,\n",
       "   'constituent': 0.1514}},\n",
       " 0.05: {'entailed': {'lexical_overlap': 0.9882,\n",
       "   'subsequence': 0.9898,\n",
       "   'constituent': 0.9958},\n",
       "  'non-entailed': {'lexical_overlap': 0.1866,\n",
       "   'subsequence': 0.031,\n",
       "   'constituent': 0.1502}}}"
      ]
     },
     "execution_count": 22,
     "metadata": {},
     "output_type": "execute_result"
    }
   ],
   "source": [
    "evaluations"
   ]
  },
  {
   "cell_type": "code",
   "execution_count": 39,
   "metadata": {},
   "outputs": [],
   "source": []
  },
  {
   "cell_type": "code",
   "execution_count": 31,
   "metadata": {},
   "outputs": [],
   "source": []
  },
  {
   "cell_type": "code",
   "execution_count": 42,
   "metadata": {},
   "outputs": [],
   "source": [
    "all_tops =  []\n",
    "metrices = []\n",
    "classes = []\n",
    "scores = []\n",
    "\n",
    "for topk in evaluations.keys():\n",
    "    for cur_class in evaluations[topk].keys():\n",
    "        for heuristic in evaluations[topk][cur_class].keys():\n",
    "\n",
    "            all_tops.append(topk)\n",
    "            classes.append(cur_class)\n",
    "            metrices.append(heuristic)\n",
    "            scores.append(evaluations[topk][cur_class][heuristic])      "
   ]
  },
  {
   "cell_type": "code",
   "execution_count": 43,
   "metadata": {},
   "outputs": [],
   "source": [
    "df = pd.DataFrame()\n",
    "df['TopK'] = all_tops\n",
    "df['Classes'] = classes\n",
    "df['Metrics'] = metrices\n",
    "df['Scores'] = scores"
   ]
  },
  {
   "cell_type": "code",
   "execution_count": 44,
   "metadata": {},
   "outputs": [
    {
     "data": {
      "text/html": [
       "<div>\n",
       "<style scoped>\n",
       "    .dataframe tbody tr th:only-of-type {\n",
       "        vertical-align: middle;\n",
       "    }\n",
       "\n",
       "    .dataframe tbody tr th {\n",
       "        vertical-align: top;\n",
       "    }\n",
       "\n",
       "    .dataframe thead th {\n",
       "        text-align: right;\n",
       "    }\n",
       "</style>\n",
       "<table border=\"1\" class=\"dataframe\">\n",
       "  <thead>\n",
       "    <tr style=\"text-align: right;\">\n",
       "      <th></th>\n",
       "      <th>TopK</th>\n",
       "      <th>Classes</th>\n",
       "      <th>Metrics</th>\n",
       "      <th>Scores</th>\n",
       "    </tr>\n",
       "  </thead>\n",
       "  <tbody>\n",
       "    <tr>\n",
       "      <th>0</th>\n",
       "      <td>0.01</td>\n",
       "      <td>entailed</td>\n",
       "      <td>lexical_overlap</td>\n",
       "      <td>0.9926</td>\n",
       "    </tr>\n",
       "    <tr>\n",
       "      <th>1</th>\n",
       "      <td>0.01</td>\n",
       "      <td>entailed</td>\n",
       "      <td>subsequence</td>\n",
       "      <td>0.9968</td>\n",
       "    </tr>\n",
       "    <tr>\n",
       "      <th>2</th>\n",
       "      <td>0.01</td>\n",
       "      <td>entailed</td>\n",
       "      <td>constituent</td>\n",
       "      <td>0.9884</td>\n",
       "    </tr>\n",
       "    <tr>\n",
       "      <th>3</th>\n",
       "      <td>0.01</td>\n",
       "      <td>non-entailed</td>\n",
       "      <td>lexical_overlap</td>\n",
       "      <td>0.1628</td>\n",
       "    </tr>\n",
       "    <tr>\n",
       "      <th>4</th>\n",
       "      <td>0.01</td>\n",
       "      <td>non-entailed</td>\n",
       "      <td>subsequence</td>\n",
       "      <td>0.0422</td>\n",
       "    </tr>\n",
       "  </tbody>\n",
       "</table>\n",
       "</div>"
      ],
      "text/plain": [
       "   TopK       Classes          Metrics  Scores\n",
       "0  0.01      entailed  lexical_overlap  0.9926\n",
       "1  0.01      entailed      subsequence  0.9968\n",
       "2  0.01      entailed      constituent  0.9884\n",
       "3  0.01  non-entailed  lexical_overlap  0.1628\n",
       "4  0.01  non-entailed      subsequence  0.0422"
      ]
     },
     "execution_count": 44,
     "metadata": {},
     "output_type": "execute_result"
    }
   ],
   "source": [
    "df.head()"
   ]
  },
  {
   "cell_type": "code",
   "execution_count": 45,
   "metadata": {},
   "outputs": [
    {
     "data": {
      "text/plain": [
       "(30, 4)"
      ]
     },
     "execution_count": 45,
     "metadata": {},
     "output_type": "execute_result"
    }
   ],
   "source": [
    "sns.lineplot(data=fmri, x=\"timepoint\", y=\"signal\", )"
   ]
  },
  {
   "cell_type": "code",
   "execution_count": 46,
   "metadata": {},
   "outputs": [
    {
     "data": {
      "text/plain": [
       "<AxesSubplot: xlabel='TopK', ylabel='Scores'>"
      ]
     },
     "execution_count": 46,
     "metadata": {},
     "output_type": "execute_result"
    },
    {
     "data": {
      "image/png": "[encoded data removed]",
      "text/plain": [
       "<Figure size 640x480 with 1 Axes>"
      ]
     },
     "metadata": {},
     "output_type": "display_data"
    }
   ],
   "source": [
    "sns.lineplot(data=df, x=\"TopK\", y=\"Scores\", hue=\"Classes\", style=\"Metrics\")"
   ]
  },
  {
   "cell_type": "code",
   "execution_count": null,
   "metadata": {},
   "outputs": [],
   "source": []
  }
 ],
 "metadata": {
  "kernelspec": {
   "display_name": "Python (sit_env)",
   "language": "python",
   "name": "sit_env"
  },
  "language_info": {
   "codemirror_mode": {
    "name": "ipython",
    "version": 3
   },
   "file_extension": ".py",
   "mimetype": "text/x-python",
   "name": "python",
   "nbconvert_exporter": "python",
   "pygments_lexer": "ipython3",
   "version": "3.8.8"
  }
 },
 "nbformat": 4,
 "nbformat_minor": 2
}
